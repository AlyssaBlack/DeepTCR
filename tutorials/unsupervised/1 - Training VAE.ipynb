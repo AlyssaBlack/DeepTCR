{
 "cells": [
  {
   "cell_type": "markdown",
   "metadata": {},
   "source": [
    "# Training VAE"
   ]
  },
  {
   "cell_type": "markdown",
   "metadata": {},
   "source": [
    "Once data is loaded into DeepTCR, we can begin to train the variational autoencoder (VAE) which will learn the latent represnetation of the TCR sequences. This latent representation is learned from all possible inputs into DeepTCR (including alpha,beta chains, v/d/j gene usage, HLA). To train the VAE,we will first load data and then execute the Train_VAE command."
   ]
  },
  {
   "cell_type": "code",
   "execution_count": 1,
   "metadata": {},
   "outputs": [
    {
     "name": "stdout",
     "output_type": "stream",
     "text": [
      "Loading Data...\n",
      "Embedding Sequences...\n",
      "Data Loaded\n"
     ]
    }
   ],
   "source": [
    "import sys\n",
    "sys.path.append('../../')\n",
    "from DeepTCR.DeepTCR import DeepTCR_U\n",
    "\n",
    "# Instantiate training object\n",
    "DTCRU = DeepTCR_U('Tutorial')\n",
    "\n",
    "#Load Data from directories\n",
    "DTCRU.Get_Data(directory='../../Data/Murine_Antigens',Load_Prev_Data=False,aggregate_by_aa=True,\n",
    "               aa_column_beta=0,count_column=1,v_beta_column=2,j_beta_column=3)"
   ]
  },
  {
   "cell_type": "code",
   "execution_count": 2,
   "metadata": {},
   "outputs": [
    {
     "name": "stdout",
     "output_type": "stream",
     "text": [
      "WARNING:tensorflow:From /home/jsidhom1/DeepTCR_test/deeptcr/lib/python3.6/site-packages/DeepTCR/functions/Layers.py:130: The name tf.placeholder is deprecated. Please use tf.compat.v1.placeholder instead.\n",
      "\n",
      "WARNING:tensorflow:From /home/jsidhom1/DeepTCR_test/deeptcr/lib/python3.6/site-packages/DeepTCR/functions/Layers.py:135: The name tf.placeholder_with_default is deprecated. Please use tf.compat.v1.placeholder_with_default instead.\n",
      "\n",
      "WARNING:tensorflow:From /home/jsidhom1/DeepTCR_test/deeptcr/lib/python3.6/site-packages/DeepTCR/functions/Layers.py:137: The name tf.sparse.placeholder is deprecated. Please use tf.compat.v1.sparse.placeholder instead.\n",
      "\n",
      "WARNING:tensorflow:From /home/jsidhom1/DeepTCR_test/deeptcr/lib/python3.6/site-packages/DeepTCR/functions/Layers.py:12: The name tf.get_variable is deprecated. Please use tf.compat.v1.get_variable instead.\n",
      "\n",
      "WARNING:tensorflow:From /home/jsidhom1/DeepTCR_test/deeptcr/lib/python3.6/site-packages/DeepTCR/functions/Layers.py:153: The name tf.variable_scope is deprecated. Please use tf.compat.v1.variable_scope instead.\n",
      "\n",
      "WARNING:tensorflow:From /home/jsidhom1/DeepTCR_test/deeptcr/lib/python3.6/site-packages/DeepTCR/functions/Layers.py:98: conv2d (from tensorflow.python.layers.convolutional) is deprecated and will be removed in a future version.\n",
      "Instructions for updating:\n",
      "Use `tf.keras.layers.Conv2D` instead.\n",
      "WARNING:tensorflow:From /home/jsidhom1/DeepTCR_test/deeptcr/lib/python3.6/site-packages/tensorflow_core/python/layers/convolutional.py:424: Layer.apply (from tensorflow.python.keras.engine.base_layer) is deprecated and will be removed in a future version.\n",
      "Instructions for updating:\n",
      "Please use `layer.__call__` method instead.\n",
      "WARNING:tensorflow:From /home/jsidhom1/DeepTCR_test/deeptcr/lib/python3.6/site-packages/DeepTCR/functions/Layers.py:99: flatten (from tensorflow.python.layers.core) is deprecated and will be removed in a future version.\n",
      "Instructions for updating:\n",
      "Use keras.layers.flatten instead.\n",
      "WARNING:tensorflow:From /home/jsidhom1/DeepTCR_test/deeptcr/lib/python3.6/site-packages/DeepTCR/functions/Layers.py:102: dropout (from tensorflow.python.layers.core) is deprecated and will be removed in a future version.\n",
      "Instructions for updating:\n",
      "Use keras.layers.dropout instead.\n",
      "WARNING:tensorflow:From /home/jsidhom1/DeepTCR_test/deeptcr/lib/python3.6/site-packages/DeepTCR/DeepTCR.py:2245: dense (from tensorflow.python.layers.core) is deprecated and will be removed in a future version.\n",
      "Instructions for updating:\n",
      "Use keras.layers.Dense instead.\n",
      "WARNING:tensorflow:From /home/jsidhom1/DeepTCR_test/deeptcr/lib/python3.6/site-packages/DeepTCR/DeepTCR.py:2253: The name tf.random_normal is deprecated. Please use tf.random.normal instead.\n",
      "\n",
      "WARNING:tensorflow:From /home/jsidhom1/DeepTCR_test/deeptcr/lib/python3.6/site-packages/DeepTCR/DeepTCR.py:2264: conv2d_transpose (from tensorflow.python.layers.convolutional) is deprecated and will be removed in a future version.\n",
      "Instructions for updating:\n",
      "Use `tf.keras.layers.Conv2DTranspose` instead.\n",
      "WARNING:tensorflow:From /home/jsidhom1/DeepTCR_test/deeptcr/lib/python3.6/site-packages/DeepTCR/DeepTCR.py:2380: The name tf.train.AdamOptimizer is deprecated. Please use tf.compat.v1.train.AdamOptimizer instead.\n",
      "\n",
      "WARNING:tensorflow:From /home/jsidhom1/DeepTCR_test/deeptcr/lib/python3.6/site-packages/DeepTCR/DeepTCR.py:2391: The name tf.train.Saver is deprecated. Please use tf.compat.v1.train.Saver instead.\n",
      "\n",
      "WARNING:tensorflow:From /home/jsidhom1/DeepTCR_test/deeptcr/lib/python3.6/site-packages/DeepTCR/DeepTCR.py:2394: The name tf.reset_default_graph is deprecated. Please use tf.compat.v1.reset_default_graph instead.\n",
      "\n",
      "WARNING:tensorflow:From /home/jsidhom1/DeepTCR_test/deeptcr/lib/python3.6/site-packages/DeepTCR/DeepTCR.py:2395: The name tf.ConfigProto is deprecated. Please use tf.compat.v1.ConfigProto instead.\n",
      "\n",
      "WARNING:tensorflow:From /home/jsidhom1/DeepTCR_test/deeptcr/lib/python3.6/site-packages/DeepTCR/DeepTCR.py:2398: The name tf.Session is deprecated. Please use tf.compat.v1.Session instead.\n",
      "\n",
      "WARNING:tensorflow:From /home/jsidhom1/DeepTCR_test/deeptcr/lib/python3.6/site-packages/DeepTCR/DeepTCR.py:2399: The name tf.global_variables_initializer is deprecated. Please use tf.compat.v1.global_variables_initializer instead.\n",
      "\n",
      "Epoch = 0, Iteration = 0 Total Loss: 8.04421: Recon Loss: 7.96300: Latent Loss: 0.08121: Sparsity Loss: 0.00000: Recon Accuracy: 0.03607\n",
      "Epoch = 1, Iteration = 0 Total Loss: 7.66159: Recon Loss: 7.58204: Latent Loss: 0.07955: Sparsity Loss: 0.00000: Recon Accuracy: 0.07024\n",
      "Epoch = 2, Iteration = 0 Total Loss: 7.41940: Recon Loss: 7.34028: Latent Loss: 0.07912: Sparsity Loss: 0.00000: Recon Accuracy: 0.11310\n",
      "Epoch = 3, Iteration = 0 Total Loss: 7.22762: Recon Loss: 7.14710: Latent Loss: 0.08052: Sparsity Loss: 0.00000: Recon Accuracy: 0.14539\n",
      "Epoch = 4, Iteration = 0 Total Loss: 7.08458: Recon Loss: 6.99802: Latent Loss: 0.08656: Sparsity Loss: 0.00000: Recon Accuracy: 0.16848\n",
      "Epoch = 5, Iteration = 0 Total Loss: 6.94987: Recon Loss: 6.85606: Latent Loss: 0.09381: Sparsity Loss: 0.00000: Recon Accuracy: 0.18733\n",
      "Epoch = 6, Iteration = 0 Total Loss: 6.82067: Recon Loss: 6.72415: Latent Loss: 0.09652: Sparsity Loss: 0.00000: Recon Accuracy: 0.19963\n",
      "Epoch = 7, Iteration = 0 Total Loss: 6.67054: Recon Loss: 6.57608: Latent Loss: 0.09446: Sparsity Loss: 0.00000: Recon Accuracy: 0.21597\n",
      "Epoch = 8, Iteration = 0 Total Loss: 6.53032: Recon Loss: 6.44234: Latent Loss: 0.08798: Sparsity Loss: 0.00000: Recon Accuracy: 0.23222\n",
      "Epoch = 9, Iteration = 0 Total Loss: 6.36157: Recon Loss: 6.28011: Latent Loss: 0.08146: Sparsity Loss: 0.00000: Recon Accuracy: 0.24577\n",
      "Epoch = 10, Iteration = 0 Total Loss: 6.17959: Recon Loss: 6.10220: Latent Loss: 0.07739: Sparsity Loss: 0.00000: Recon Accuracy: 0.27078\n",
      "Epoch = 11, Iteration = 0 Total Loss: 5.97115: Recon Loss: 5.89696: Latent Loss: 0.07419: Sparsity Loss: 0.00000: Recon Accuracy: 0.29427\n",
      "Epoch = 12, Iteration = 0 Total Loss: 5.70774: Recon Loss: 5.63072: Latent Loss: 0.07702: Sparsity Loss: 0.00000: Recon Accuracy: 0.33250\n",
      "Epoch = 13, Iteration = 0 Total Loss: 5.44655: Recon Loss: 5.35943: Latent Loss: 0.08712: Sparsity Loss: 0.00000: Recon Accuracy: 0.35502\n",
      "Epoch = 14, Iteration = 0 Total Loss: 5.22446: Recon Loss: 5.12387: Latent Loss: 0.10059: Sparsity Loss: 0.00000: Recon Accuracy: 0.38688\n",
      "Epoch = 15, Iteration = 0 Total Loss: 4.98572: Recon Loss: 4.87972: Latent Loss: 0.10600: Sparsity Loss: 0.00000: Recon Accuracy: 0.42176\n",
      "Epoch = 16, Iteration = 0 Total Loss: 4.77867: Recon Loss: 4.67006: Latent Loss: 0.10861: Sparsity Loss: 0.00000: Recon Accuracy: 0.43318\n",
      "Epoch = 17, Iteration = 0 Total Loss: 4.54812: Recon Loss: 4.43808: Latent Loss: 0.11004: Sparsity Loss: 0.00000: Recon Accuracy: 0.45519\n",
      "Epoch = 18, Iteration = 0 Total Loss: 4.39222: Recon Loss: 4.27686: Latent Loss: 0.11536: Sparsity Loss: 0.00000: Recon Accuracy: 0.46644\n",
      "Epoch = 19, Iteration = 0 Total Loss: 4.22190: Recon Loss: 4.09958: Latent Loss: 0.12232: Sparsity Loss: 0.00000: Recon Accuracy: 0.48564\n",
      "Epoch = 20, Iteration = 0 Total Loss: 4.05651: Recon Loss: 3.92224: Latent Loss: 0.13427: Sparsity Loss: 0.00000: Recon Accuracy: 0.50380\n",
      "Epoch = 21, Iteration = 0 Total Loss: 3.90509: Recon Loss: 3.76003: Latent Loss: 0.14505: Sparsity Loss: 0.00000: Recon Accuracy: 0.51578\n",
      "Epoch = 22, Iteration = 0 Total Loss: 3.75583: Recon Loss: 3.60728: Latent Loss: 0.14855: Sparsity Loss: 0.00000: Recon Accuracy: 0.53146\n",
      "Epoch = 23, Iteration = 0 Total Loss: 3.64609: Recon Loss: 3.49320: Latent Loss: 0.15289: Sparsity Loss: 0.00000: Recon Accuracy: 0.54462\n",
      "Epoch = 24, Iteration = 0 Total Loss: 3.48944: Recon Loss: 3.33227: Latent Loss: 0.15717: Sparsity Loss: 0.00000: Recon Accuracy: 0.56305\n",
      "Epoch = 25, Iteration = 0 Total Loss: 3.36623: Recon Loss: 3.20453: Latent Loss: 0.16170: Sparsity Loss: 0.00000: Recon Accuracy: 0.57757\n",
      "Epoch = 26, Iteration = 0 Total Loss: 3.23483: Recon Loss: 3.07483: Latent Loss: 0.16001: Sparsity Loss: 0.00000: Recon Accuracy: 0.58926\n",
      "Epoch = 27, Iteration = 0 Total Loss: 3.12962: Recon Loss: 2.97023: Latent Loss: 0.15939: Sparsity Loss: 0.00000: Recon Accuracy: 0.59742\n",
      "Epoch = 28, Iteration = 0 Total Loss: 2.99002: Recon Loss: 2.82726: Latent Loss: 0.16276: Sparsity Loss: 0.00000: Recon Accuracy: 0.60627\n",
      "Epoch = 29, Iteration = 0 Total Loss: 2.89651: Recon Loss: 2.72643: Latent Loss: 0.17008: Sparsity Loss: 0.00000: Recon Accuracy: 0.61931\n",
      "Epoch = 30, Iteration = 0 Total Loss: 2.80746: Recon Loss: 2.62905: Latent Loss: 0.17840: Sparsity Loss: 0.00000: Recon Accuracy: 0.63074\n"
     ]
    },
    {
     "name": "stdout",
     "output_type": "stream",
     "text": [
      "Epoch = 31, Iteration = 0 Total Loss: 2.67271: Recon Loss: 2.48824: Latent Loss: 0.18446: Sparsity Loss: 0.00000: Recon Accuracy: 0.64257\n",
      "Epoch = 32, Iteration = 0 Total Loss: 2.56101: Recon Loss: 2.37115: Latent Loss: 0.18986: Sparsity Loss: 0.00000: Recon Accuracy: 0.65967\n",
      "Epoch = 33, Iteration = 0 Total Loss: 2.47846: Recon Loss: 2.28155: Latent Loss: 0.19691: Sparsity Loss: 0.00000: Recon Accuracy: 0.66433\n",
      "Epoch = 34, Iteration = 0 Total Loss: 2.37883: Recon Loss: 2.17488: Latent Loss: 0.20396: Sparsity Loss: 0.00000: Recon Accuracy: 0.67658\n",
      "Epoch = 35, Iteration = 0 Total Loss: 2.27231: Recon Loss: 2.06151: Latent Loss: 0.21080: Sparsity Loss: 0.00000: Recon Accuracy: 0.68766\n",
      "Epoch = 36, Iteration = 0 Total Loss: 2.17990: Recon Loss: 1.96315: Latent Loss: 0.21676: Sparsity Loss: 0.00000: Recon Accuracy: 0.69421\n",
      "Epoch = 37, Iteration = 0 Total Loss: 2.09408: Recon Loss: 1.87405: Latent Loss: 0.22004: Sparsity Loss: 0.00000: Recon Accuracy: 0.69995\n",
      "Epoch = 38, Iteration = 0 Total Loss: 2.03196: Recon Loss: 1.80776: Latent Loss: 0.22420: Sparsity Loss: 0.00000: Recon Accuracy: 0.71188\n",
      "Epoch = 39, Iteration = 0 Total Loss: 1.92898: Recon Loss: 1.69992: Latent Loss: 0.22906: Sparsity Loss: 0.00000: Recon Accuracy: 0.72505\n",
      "Epoch = 40, Iteration = 0 Total Loss: 1.85929: Recon Loss: 1.62434: Latent Loss: 0.23495: Sparsity Loss: 0.00000: Recon Accuracy: 0.73405\n",
      "Epoch = 41, Iteration = 0 Total Loss: 1.79292: Recon Loss: 1.55179: Latent Loss: 0.24113: Sparsity Loss: 0.00000: Recon Accuracy: 0.74113\n",
      "Epoch = 42, Iteration = 0 Total Loss: 1.73091: Recon Loss: 1.48816: Latent Loss: 0.24275: Sparsity Loss: 0.00000: Recon Accuracy: 0.74708\n",
      "Epoch = 43, Iteration = 0 Total Loss: 1.66233: Recon Loss: 1.41785: Latent Loss: 0.24449: Sparsity Loss: 0.00000: Recon Accuracy: 0.75300\n",
      "Epoch = 44, Iteration = 0 Total Loss: 1.58385: Recon Loss: 1.33656: Latent Loss: 0.24730: Sparsity Loss: 0.00000: Recon Accuracy: 0.76213\n",
      "Epoch = 45, Iteration = 0 Total Loss: 1.53677: Recon Loss: 1.28744: Latent Loss: 0.24934: Sparsity Loss: 0.00000: Recon Accuracy: 0.76866\n",
      "Epoch = 46, Iteration = 0 Total Loss: 1.50152: Recon Loss: 1.25019: Latent Loss: 0.25132: Sparsity Loss: 0.00000: Recon Accuracy: 0.77034\n",
      "Epoch = 47, Iteration = 0 Total Loss: 1.44216: Recon Loss: 1.18915: Latent Loss: 0.25301: Sparsity Loss: 0.00000: Recon Accuracy: 0.77944\n",
      "Epoch = 48, Iteration = 0 Total Loss: 1.40527: Recon Loss: 1.15183: Latent Loss: 0.25343: Sparsity Loss: 0.00000: Recon Accuracy: 0.77840\n",
      "Epoch = 49, Iteration = 0 Total Loss: 1.36112: Recon Loss: 1.10773: Latent Loss: 0.25339: Sparsity Loss: 0.00000: Recon Accuracy: 0.78511\n",
      "Epoch = 50, Iteration = 0 Total Loss: 1.32485: Recon Loss: 1.07257: Latent Loss: 0.25228: Sparsity Loss: 0.00000: Recon Accuracy: 0.78840\n",
      "Epoch = 51, Iteration = 0 Total Loss: 1.29049: Recon Loss: 1.04015: Latent Loss: 0.25034: Sparsity Loss: 0.00000: Recon Accuracy: 0.79266\n",
      "Epoch = 52, Iteration = 0 Total Loss: 1.25582: Recon Loss: 1.00707: Latent Loss: 0.24875: Sparsity Loss: 0.00000: Recon Accuracy: 0.79694\n",
      "Epoch = 53, Iteration = 0 Total Loss: 1.22065: Recon Loss: 0.97354: Latent Loss: 0.24710: Sparsity Loss: 0.00000: Recon Accuracy: 0.80013\n",
      "Epoch = 54, Iteration = 0 Total Loss: 1.20058: Recon Loss: 0.95354: Latent Loss: 0.24704: Sparsity Loss: 0.00000: Recon Accuracy: 0.80043\n",
      "Epoch = 55, Iteration = 0 Total Loss: 1.17093: Recon Loss: 0.92322: Latent Loss: 0.24771: Sparsity Loss: 0.00000: Recon Accuracy: 0.80395\n",
      "Epoch = 56, Iteration = 0 Total Loss: 1.13139: Recon Loss: 0.88511: Latent Loss: 0.24627: Sparsity Loss: 0.00000: Recon Accuracy: 0.80913\n",
      "Epoch = 57, Iteration = 0 Total Loss: 1.11706: Recon Loss: 0.87434: Latent Loss: 0.24272: Sparsity Loss: 0.00000: Recon Accuracy: 0.81065\n",
      "Epoch = 58, Iteration = 0 Total Loss: 1.09452: Recon Loss: 0.85610: Latent Loss: 0.23841: Sparsity Loss: 0.00000: Recon Accuracy: 0.80888\n",
      "Epoch = 59, Iteration = 0 Total Loss: 1.08325: Recon Loss: 0.84966: Latent Loss: 0.23360: Sparsity Loss: 0.00000: Recon Accuracy: 0.81190\n",
      "Epoch = 60, Iteration = 0 Total Loss: 1.04199: Recon Loss: 0.81146: Latent Loss: 0.23053: Sparsity Loss: 0.00000: Recon Accuracy: 0.81380\n",
      "Epoch = 61, Iteration = 0 Total Loss: 1.03040: Recon Loss: 0.80106: Latent Loss: 0.22934: Sparsity Loss: 0.00000: Recon Accuracy: 0.81532\n",
      "Epoch = 62, Iteration = 0 Total Loss: 1.00850: Recon Loss: 0.78119: Latent Loss: 0.22731: Sparsity Loss: 0.00000: Recon Accuracy: 0.81714\n",
      "Epoch = 63, Iteration = 0 Total Loss: 0.99758: Recon Loss: 0.77359: Latent Loss: 0.22399: Sparsity Loss: 0.00000: Recon Accuracy: 0.81789\n",
      "Epoch = 64, Iteration = 0 Total Loss: 0.97516: Recon Loss: 0.75520: Latent Loss: 0.21996: Sparsity Loss: 0.00000: Recon Accuracy: 0.82101\n",
      "Epoch = 65, Iteration = 0 Total Loss: 0.95835: Recon Loss: 0.74222: Latent Loss: 0.21614: Sparsity Loss: 0.00000: Recon Accuracy: 0.82170\n",
      "Epoch = 66, Iteration = 0 Total Loss: 0.94140: Recon Loss: 0.72753: Latent Loss: 0.21387: Sparsity Loss: 0.00000: Recon Accuracy: 0.82293\n",
      "Epoch = 67, Iteration = 0 Total Loss: 0.93984: Recon Loss: 0.72885: Latent Loss: 0.21099: Sparsity Loss: 0.00000: Recon Accuracy: 0.82361\n",
      "Epoch = 68, Iteration = 0 Total Loss: 0.92122: Recon Loss: 0.71374: Latent Loss: 0.20748: Sparsity Loss: 0.00000: Recon Accuracy: 0.82465\n",
      "Epoch = 69, Iteration = 0 Total Loss: 0.90488: Recon Loss: 0.70208: Latent Loss: 0.20281: Sparsity Loss: 0.00000: Recon Accuracy: 0.82609\n",
      "Epoch = 70, Iteration = 0 Total Loss: 0.91228: Recon Loss: 0.71244: Latent Loss: 0.19984: Sparsity Loss: 0.00000: Recon Accuracy: 0.82463\n",
      "Epoch = 71, Iteration = 0 Total Loss: 0.89120: Recon Loss: 0.69228: Latent Loss: 0.19892: Sparsity Loss: 0.00000: Recon Accuracy: 0.82781\n",
      "Epoch = 72, Iteration = 0 Total Loss: 0.88100: Recon Loss: 0.68166: Latent Loss: 0.19934: Sparsity Loss: 0.00000: Recon Accuracy: 0.82634\n",
      "Epoch = 73, Iteration = 0 Total Loss: 0.85327: Recon Loss: 0.65818: Latent Loss: 0.19510: Sparsity Loss: 0.00000: Recon Accuracy: 0.83089\n",
      "Epoch = 74, Iteration = 0 Total Loss: 0.84851: Recon Loss: 0.65772: Latent Loss: 0.19079: Sparsity Loss: 0.00000: Recon Accuracy: 0.83246\n",
      "Epoch = 75, Iteration = 0 Total Loss: 0.83907: Recon Loss: 0.65018: Latent Loss: 0.18889: Sparsity Loss: 0.00000: Recon Accuracy: 0.83484\n",
      "Epoch = 76, Iteration = 0 Total Loss: 0.83423: Recon Loss: 0.64584: Latent Loss: 0.18839: Sparsity Loss: 0.00000: Recon Accuracy: 0.83417\n",
      "Epoch = 77, Iteration = 0 Total Loss: 0.81523: Recon Loss: 0.62685: Latent Loss: 0.18838: Sparsity Loss: 0.00000: Recon Accuracy: 0.83475\n",
      "Epoch = 78, Iteration = 0 Total Loss: 0.81330: Recon Loss: 0.62723: Latent Loss: 0.18607: Sparsity Loss: 0.00000: Recon Accuracy: 0.83646\n",
      "Epoch = 79, Iteration = 0 Total Loss: 0.80311: Recon Loss: 0.62063: Latent Loss: 0.18248: Sparsity Loss: 0.00000: Recon Accuracy: 0.83853\n",
      "Epoch = 80, Iteration = 0 Total Loss: 0.79654: Recon Loss: 0.61768: Latent Loss: 0.17887: Sparsity Loss: 0.00000: Recon Accuracy: 0.83833\n",
      "Epoch = 81, Iteration = 0 Total Loss: 0.79551: Recon Loss: 0.61872: Latent Loss: 0.17680: Sparsity Loss: 0.00000: Recon Accuracy: 0.83947\n",
      "Epoch = 82, Iteration = 0 Total Loss: 0.78031: Recon Loss: 0.60308: Latent Loss: 0.17723: Sparsity Loss: 0.00000: Recon Accuracy: 0.83955\n",
      "Epoch = 83, Iteration = 0 Total Loss: 0.78006: Recon Loss: 0.60252: Latent Loss: 0.17754: Sparsity Loss: 0.00000: Recon Accuracy: 0.84007\n",
      "Epoch = 84, Iteration = 0 Total Loss: 0.78016: Recon Loss: 0.60466: Latent Loss: 0.17550: Sparsity Loss: 0.00000: Recon Accuracy: 0.83960\n",
      "Epoch = 85, Iteration = 0 Total Loss: 0.76703: Recon Loss: 0.59458: Latent Loss: 0.17244: Sparsity Loss: 0.00000: Recon Accuracy: 0.84322\n",
      "Epoch = 86, Iteration = 0 Total Loss: 0.77004: Recon Loss: 0.59961: Latent Loss: 0.17043: Sparsity Loss: 0.00000: Recon Accuracy: 0.84116\n",
      "Epoch = 87, Iteration = 0 Total Loss: 0.75621: Recon Loss: 0.58696: Latent Loss: 0.16926: Sparsity Loss: 0.00000: Recon Accuracy: 0.84290\n",
      "Epoch = 88, Iteration = 0 Total Loss: 0.73944: Recon Loss: 0.57101: Latent Loss: 0.16842: Sparsity Loss: 0.00000: Recon Accuracy: 0.84582\n",
      "Epoch = 89, Iteration = 0 Total Loss: 0.76330: Recon Loss: 0.59442: Latent Loss: 0.16888: Sparsity Loss: 0.00000: Recon Accuracy: 0.84384\n",
      "Epoch = 90, Iteration = 0 Total Loss: 0.74114: Recon Loss: 0.57389: Latent Loss: 0.16725: Sparsity Loss: 0.00000: Recon Accuracy: 0.84435\n",
      "Epoch = 91, Iteration = 0 Total Loss: 0.73559: Recon Loss: 0.56949: Latent Loss: 0.16610: Sparsity Loss: 0.00000: Recon Accuracy: 0.84702\n",
      "Epoch = 92, Iteration = 0 Total Loss: 0.72810: Recon Loss: 0.56273: Latent Loss: 0.16536: Sparsity Loss: 0.00000: Recon Accuracy: 0.84734\n",
      "Epoch = 93, Iteration = 0 Total Loss: 0.71986: Recon Loss: 0.55483: Latent Loss: 0.16503: Sparsity Loss: 0.00000: Recon Accuracy: 0.84794\n",
      "Epoch = 94, Iteration = 0 Total Loss: 0.71123: Recon Loss: 0.54656: Latent Loss: 0.16467: Sparsity Loss: 0.00000: Recon Accuracy: 0.85088\n",
      "Epoch = 95, Iteration = 0 Total Loss: 0.70844: Recon Loss: 0.54531: Latent Loss: 0.16313: Sparsity Loss: 0.00000: Recon Accuracy: 0.85147\n"
     ]
    },
    {
     "name": "stdout",
     "output_type": "stream",
     "text": [
      "Epoch = 96, Iteration = 0 Total Loss: 0.70788: Recon Loss: 0.54620: Latent Loss: 0.16168: Sparsity Loss: 0.00000: Recon Accuracy: 0.85155\n",
      "Epoch = 97, Iteration = 0 Total Loss: 0.69449: Recon Loss: 0.53334: Latent Loss: 0.16115: Sparsity Loss: 0.00000: Recon Accuracy: 0.85352\n",
      "Epoch = 98, Iteration = 0 Total Loss: 0.68914: Recon Loss: 0.52792: Latent Loss: 0.16122: Sparsity Loss: 0.00000: Recon Accuracy: 0.85468\n",
      "Epoch = 99, Iteration = 0 Total Loss: 0.70069: Recon Loss: 0.53975: Latent Loss: 0.16094: Sparsity Loss: 0.00000: Recon Accuracy: 0.85232\n",
      "Epoch = 100, Iteration = 0 Total Loss: 0.68519: Recon Loss: 0.52582: Latent Loss: 0.15937: Sparsity Loss: 0.00000: Recon Accuracy: 0.85614\n",
      "Epoch = 101, Iteration = 0 Total Loss: 0.68940: Recon Loss: 0.53143: Latent Loss: 0.15797: Sparsity Loss: 0.00000: Recon Accuracy: 0.85385\n",
      "Epoch = 102, Iteration = 0 Total Loss: 0.66834: Recon Loss: 0.51217: Latent Loss: 0.15617: Sparsity Loss: 0.00000: Recon Accuracy: 0.85844\n",
      "Epoch = 103, Iteration = 0 Total Loss: 0.67210: Recon Loss: 0.51651: Latent Loss: 0.15559: Sparsity Loss: 0.00000: Recon Accuracy: 0.85784\n",
      "Epoch = 104, Iteration = 0 Total Loss: 0.67159: Recon Loss: 0.51590: Latent Loss: 0.15569: Sparsity Loss: 0.00000: Recon Accuracy: 0.85899\n",
      "Epoch = 105, Iteration = 0 Total Loss: 0.67407: Recon Loss: 0.51741: Latent Loss: 0.15666: Sparsity Loss: 0.00000: Recon Accuracy: 0.85740\n",
      "Epoch = 106, Iteration = 0 Total Loss: 0.65919: Recon Loss: 0.50292: Latent Loss: 0.15627: Sparsity Loss: 0.00000: Recon Accuracy: 0.86119\n",
      "Epoch = 107, Iteration = 0 Total Loss: 0.65547: Recon Loss: 0.50090: Latent Loss: 0.15457: Sparsity Loss: 0.00000: Recon Accuracy: 0.86331\n",
      "Epoch = 108, Iteration = 0 Total Loss: 0.66179: Recon Loss: 0.50806: Latent Loss: 0.15373: Sparsity Loss: 0.00000: Recon Accuracy: 0.85920\n",
      "Epoch = 109, Iteration = 0 Total Loss: 0.65293: Recon Loss: 0.49945: Latent Loss: 0.15348: Sparsity Loss: 0.00000: Recon Accuracy: 0.86251\n",
      "Epoch = 110, Iteration = 0 Total Loss: 0.64023: Recon Loss: 0.48618: Latent Loss: 0.15405: Sparsity Loss: 0.00000: Recon Accuracy: 0.86397\n",
      "Epoch = 111, Iteration = 0 Total Loss: 0.65036: Recon Loss: 0.49668: Latent Loss: 0.15369: Sparsity Loss: 0.00000: Recon Accuracy: 0.86175\n",
      "Epoch = 112, Iteration = 0 Total Loss: 0.64321: Recon Loss: 0.49104: Latent Loss: 0.15217: Sparsity Loss: 0.00000: Recon Accuracy: 0.86490\n",
      "Epoch = 113, Iteration = 0 Total Loss: 0.63906: Recon Loss: 0.48783: Latent Loss: 0.15123: Sparsity Loss: 0.00000: Recon Accuracy: 0.86516\n",
      "Epoch = 114, Iteration = 0 Total Loss: 0.63816: Recon Loss: 0.48756: Latent Loss: 0.15061: Sparsity Loss: 0.00000: Recon Accuracy: 0.86492\n",
      "Epoch = 115, Iteration = 0 Total Loss: 0.62910: Recon Loss: 0.47908: Latent Loss: 0.15002: Sparsity Loss: 0.00000: Recon Accuracy: 0.86594\n",
      "Epoch = 116, Iteration = 0 Total Loss: 0.63709: Recon Loss: 0.48719: Latent Loss: 0.14990: Sparsity Loss: 0.00000: Recon Accuracy: 0.86618\n",
      "Epoch = 117, Iteration = 0 Total Loss: 0.62700: Recon Loss: 0.47730: Latent Loss: 0.14970: Sparsity Loss: 0.00000: Recon Accuracy: 0.86765\n",
      "Epoch = 118, Iteration = 0 Total Loss: 0.62022: Recon Loss: 0.47037: Latent Loss: 0.14986: Sparsity Loss: 0.00000: Recon Accuracy: 0.86896\n",
      "Epoch = 119, Iteration = 0 Total Loss: 0.61511: Recon Loss: 0.46580: Latent Loss: 0.14931: Sparsity Loss: 0.00000: Recon Accuracy: 0.86953\n",
      "Epoch = 120, Iteration = 0 Total Loss: 0.61325: Recon Loss: 0.46436: Latent Loss: 0.14890: Sparsity Loss: 0.00000: Recon Accuracy: 0.87082\n",
      "Epoch = 121, Iteration = 0 Total Loss: 0.61049: Recon Loss: 0.46194: Latent Loss: 0.14855: Sparsity Loss: 0.00000: Recon Accuracy: 0.87086\n",
      "Epoch = 122, Iteration = 0 Total Loss: 0.60655: Recon Loss: 0.45793: Latent Loss: 0.14862: Sparsity Loss: 0.00000: Recon Accuracy: 0.87179\n",
      "Epoch = 123, Iteration = 0 Total Loss: 0.60598: Recon Loss: 0.45777: Latent Loss: 0.14822: Sparsity Loss: 0.00000: Recon Accuracy: 0.87250\n",
      "Epoch = 124, Iteration = 0 Total Loss: 0.60181: Recon Loss: 0.45493: Latent Loss: 0.14688: Sparsity Loss: 0.00000: Recon Accuracy: 0.87418\n",
      "Epoch = 125, Iteration = 0 Total Loss: 0.60564: Recon Loss: 0.45992: Latent Loss: 0.14572: Sparsity Loss: 0.00000: Recon Accuracy: 0.87305\n",
      "Epoch = 126, Iteration = 0 Total Loss: 0.59758: Recon Loss: 0.45105: Latent Loss: 0.14654: Sparsity Loss: 0.00000: Recon Accuracy: 0.87583\n",
      "Epoch = 127, Iteration = 0 Total Loss: 0.59873: Recon Loss: 0.45123: Latent Loss: 0.14750: Sparsity Loss: 0.00000: Recon Accuracy: 0.87476\n",
      "Epoch = 128, Iteration = 0 Total Loss: 0.59680: Recon Loss: 0.44960: Latent Loss: 0.14719: Sparsity Loss: 0.00000: Recon Accuracy: 0.87413\n",
      "Epoch = 129, Iteration = 0 Total Loss: 0.58407: Recon Loss: 0.43780: Latent Loss: 0.14628: Sparsity Loss: 0.00000: Recon Accuracy: 0.87649\n",
      "Epoch = 130, Iteration = 0 Total Loss: 0.60023: Recon Loss: 0.45467: Latent Loss: 0.14556: Sparsity Loss: 0.00000: Recon Accuracy: 0.87740\n",
      "Epoch = 131, Iteration = 0 Total Loss: 0.59434: Recon Loss: 0.44903: Latent Loss: 0.14531: Sparsity Loss: 0.00000: Recon Accuracy: 0.87639\n",
      "Epoch = 132, Iteration = 0 Total Loss: 0.58340: Recon Loss: 0.43731: Latent Loss: 0.14608: Sparsity Loss: 0.00000: Recon Accuracy: 0.87843\n",
      "Epoch = 133, Iteration = 0 Total Loss: 0.58573: Recon Loss: 0.43978: Latent Loss: 0.14595: Sparsity Loss: 0.00000: Recon Accuracy: 0.87880\n",
      "Epoch = 134, Iteration = 0 Total Loss: 0.57726: Recon Loss: 0.43118: Latent Loss: 0.14609: Sparsity Loss: 0.00000: Recon Accuracy: 0.87944\n",
      "Epoch = 135, Iteration = 0 Total Loss: 0.58597: Recon Loss: 0.44036: Latent Loss: 0.14561: Sparsity Loss: 0.00000: Recon Accuracy: 0.87955\n",
      "Epoch = 136, Iteration = 0 Total Loss: 0.57496: Recon Loss: 0.42986: Latent Loss: 0.14510: Sparsity Loss: 0.00000: Recon Accuracy: 0.88074\n",
      "Epoch = 137, Iteration = 0 Total Loss: 0.57890: Recon Loss: 0.43379: Latent Loss: 0.14511: Sparsity Loss: 0.00000: Recon Accuracy: 0.88090\n",
      "Epoch = 138, Iteration = 0 Total Loss: 0.57003: Recon Loss: 0.42515: Latent Loss: 0.14489: Sparsity Loss: 0.00000: Recon Accuracy: 0.88194\n",
      "Epoch = 139, Iteration = 0 Total Loss: 0.57361: Recon Loss: 0.42785: Latent Loss: 0.14576: Sparsity Loss: 0.00000: Recon Accuracy: 0.88236\n",
      "Epoch = 140, Iteration = 0 Total Loss: 0.57109: Recon Loss: 0.42521: Latent Loss: 0.14588: Sparsity Loss: 0.00000: Recon Accuracy: 0.88207\n",
      "Epoch = 141, Iteration = 0 Total Loss: 0.56690: Recon Loss: 0.42149: Latent Loss: 0.14540: Sparsity Loss: 0.00000: Recon Accuracy: 0.88389\n",
      "Epoch = 142, Iteration = 0 Total Loss: 0.57360: Recon Loss: 0.42882: Latent Loss: 0.14478: Sparsity Loss: 0.00000: Recon Accuracy: 0.88355\n",
      "Epoch = 143, Iteration = 0 Total Loss: 0.55502: Recon Loss: 0.41035: Latent Loss: 0.14468: Sparsity Loss: 0.00000: Recon Accuracy: 0.88570\n",
      "Epoch = 144, Iteration = 0 Total Loss: 0.55955: Recon Loss: 0.41440: Latent Loss: 0.14515: Sparsity Loss: 0.00000: Recon Accuracy: 0.88503\n",
      "Epoch = 145, Iteration = 0 Total Loss: 0.56155: Recon Loss: 0.41617: Latent Loss: 0.14538: Sparsity Loss: 0.00000: Recon Accuracy: 0.88559\n",
      "Epoch = 146, Iteration = 0 Total Loss: 0.56515: Recon Loss: 0.42001: Latent Loss: 0.14515: Sparsity Loss: 0.00000: Recon Accuracy: 0.88443\n",
      "Epoch = 147, Iteration = 0 Total Loss: 0.55530: Recon Loss: 0.41161: Latent Loss: 0.14369: Sparsity Loss: 0.00000: Recon Accuracy: 0.88576\n",
      "Epoch = 148, Iteration = 0 Total Loss: 0.55488: Recon Loss: 0.41186: Latent Loss: 0.14302: Sparsity Loss: 0.00000: Recon Accuracy: 0.88608\n",
      "Epoch = 149, Iteration = 0 Total Loss: 0.55314: Recon Loss: 0.40979: Latent Loss: 0.14335: Sparsity Loss: 0.00000: Recon Accuracy: 0.88715\n",
      "Epoch = 150, Iteration = 0 Total Loss: 0.55330: Recon Loss: 0.40973: Latent Loss: 0.14358: Sparsity Loss: 0.00000: Recon Accuracy: 0.88820\n",
      "Epoch = 151, Iteration = 0 Total Loss: 0.55176: Recon Loss: 0.40712: Latent Loss: 0.14465: Sparsity Loss: 0.00000: Recon Accuracy: 0.88819\n",
      "Epoch = 152, Iteration = 0 Total Loss: 0.54448: Recon Loss: 0.40036: Latent Loss: 0.14412: Sparsity Loss: 0.00000: Recon Accuracy: 0.88953\n",
      "Epoch = 153, Iteration = 0 Total Loss: 0.53559: Recon Loss: 0.39203: Latent Loss: 0.14355: Sparsity Loss: 0.00000: Recon Accuracy: 0.89078\n",
      "Epoch = 154, Iteration = 0 Total Loss: 0.53647: Recon Loss: 0.39322: Latent Loss: 0.14325: Sparsity Loss: 0.00000: Recon Accuracy: 0.89100\n",
      "Epoch = 155, Iteration = 0 Total Loss: 0.54341: Recon Loss: 0.40035: Latent Loss: 0.14306: Sparsity Loss: 0.00000: Recon Accuracy: 0.89029\n",
      "Epoch = 156, Iteration = 0 Total Loss: 0.53961: Recon Loss: 0.39628: Latent Loss: 0.14333: Sparsity Loss: 0.00000: Recon Accuracy: 0.89051\n",
      "Epoch = 157, Iteration = 0 Total Loss: 0.54184: Recon Loss: 0.39786: Latent Loss: 0.14398: Sparsity Loss: 0.00000: Recon Accuracy: 0.89011\n",
      "Epoch = 158, Iteration = 0 Total Loss: 0.54071: Recon Loss: 0.39766: Latent Loss: 0.14305: Sparsity Loss: 0.00000: Recon Accuracy: 0.89063\n",
      "Epoch = 159, Iteration = 0 Total Loss: 0.53448: Recon Loss: 0.39248: Latent Loss: 0.14199: Sparsity Loss: 0.00000: Recon Accuracy: 0.89262\n"
     ]
    },
    {
     "name": "stdout",
     "output_type": "stream",
     "text": [
      "Epoch = 160, Iteration = 0 Total Loss: 0.53288: Recon Loss: 0.39083: Latent Loss: 0.14205: Sparsity Loss: 0.00000: Recon Accuracy: 0.89167\n",
      "Epoch = 161, Iteration = 0 Total Loss: 0.53075: Recon Loss: 0.38896: Latent Loss: 0.14179: Sparsity Loss: 0.00000: Recon Accuracy: 0.89313\n",
      "Epoch = 162, Iteration = 0 Total Loss: 0.52995: Recon Loss: 0.38831: Latent Loss: 0.14164: Sparsity Loss: 0.00000: Recon Accuracy: 0.89196\n",
      "Epoch = 163, Iteration = 0 Total Loss: 0.53149: Recon Loss: 0.38999: Latent Loss: 0.14151: Sparsity Loss: 0.00000: Recon Accuracy: 0.89258\n",
      "Epoch = 164, Iteration = 0 Total Loss: 0.52906: Recon Loss: 0.38833: Latent Loss: 0.14073: Sparsity Loss: 0.00000: Recon Accuracy: 0.89333\n",
      "Epoch = 165, Iteration = 0 Total Loss: 0.52582: Recon Loss: 0.38533: Latent Loss: 0.14048: Sparsity Loss: 0.00000: Recon Accuracy: 0.89441\n",
      "Epoch = 166, Iteration = 0 Total Loss: 0.52955: Recon Loss: 0.38810: Latent Loss: 0.14145: Sparsity Loss: 0.00000: Recon Accuracy: 0.89421\n",
      "Epoch = 167, Iteration = 0 Total Loss: 0.51984: Recon Loss: 0.37837: Latent Loss: 0.14148: Sparsity Loss: 0.00000: Recon Accuracy: 0.89529\n",
      "Epoch = 168, Iteration = 0 Total Loss: 0.52591: Recon Loss: 0.38465: Latent Loss: 0.14127: Sparsity Loss: 0.00000: Recon Accuracy: 0.89447\n",
      "Epoch = 169, Iteration = 0 Total Loss: 0.52095: Recon Loss: 0.37963: Latent Loss: 0.14132: Sparsity Loss: 0.00000: Recon Accuracy: 0.89595\n",
      "Epoch = 170, Iteration = 0 Total Loss: 0.52293: Recon Loss: 0.38073: Latent Loss: 0.14220: Sparsity Loss: 0.00000: Recon Accuracy: 0.89532\n",
      "Epoch = 171, Iteration = 0 Total Loss: 0.51971: Recon Loss: 0.37751: Latent Loss: 0.14220: Sparsity Loss: 0.00000: Recon Accuracy: 0.89631\n",
      "Epoch = 172, Iteration = 0 Total Loss: 0.51125: Recon Loss: 0.37031: Latent Loss: 0.14094: Sparsity Loss: 0.00000: Recon Accuracy: 0.89695\n",
      "Epoch = 173, Iteration = 0 Total Loss: 0.52542: Recon Loss: 0.38441: Latent Loss: 0.14101: Sparsity Loss: 0.00000: Recon Accuracy: 0.89624\n",
      "Epoch = 174, Iteration = 0 Total Loss: 0.50869: Recon Loss: 0.36719: Latent Loss: 0.14149: Sparsity Loss: 0.00000: Recon Accuracy: 0.89866\n",
      "Epoch = 175, Iteration = 0 Total Loss: 0.51280: Recon Loss: 0.36969: Latent Loss: 0.14311: Sparsity Loss: 0.00000: Recon Accuracy: 0.89771\n",
      "Epoch = 176, Iteration = 0 Total Loss: 0.51040: Recon Loss: 0.36627: Latent Loss: 0.14413: Sparsity Loss: 0.00000: Recon Accuracy: 0.89865\n",
      "Epoch = 177, Iteration = 0 Total Loss: 0.50823: Recon Loss: 0.36480: Latent Loss: 0.14343: Sparsity Loss: 0.00000: Recon Accuracy: 0.89970\n",
      "Epoch = 178, Iteration = 0 Total Loss: 0.50907: Recon Loss: 0.36639: Latent Loss: 0.14268: Sparsity Loss: 0.00000: Recon Accuracy: 0.89971\n",
      "Epoch = 179, Iteration = 0 Total Loss: 0.50930: Recon Loss: 0.36694: Latent Loss: 0.14236: Sparsity Loss: 0.00000: Recon Accuracy: 0.89907\n",
      "Epoch = 180, Iteration = 0 Total Loss: 0.50420: Recon Loss: 0.36288: Latent Loss: 0.14133: Sparsity Loss: 0.00000: Recon Accuracy: 0.90064\n",
      "Epoch = 181, Iteration = 0 Total Loss: 0.51581: Recon Loss: 0.37442: Latent Loss: 0.14138: Sparsity Loss: 0.00000: Recon Accuracy: 0.89806\n",
      "Epoch = 182, Iteration = 0 Total Loss: 0.50095: Recon Loss: 0.35989: Latent Loss: 0.14106: Sparsity Loss: 0.00000: Recon Accuracy: 0.90118\n",
      "Epoch = 183, Iteration = 0 Total Loss: 0.49486: Recon Loss: 0.35383: Latent Loss: 0.14103: Sparsity Loss: 0.00000: Recon Accuracy: 0.90151\n",
      "Epoch = 184, Iteration = 0 Total Loss: 0.49985: Recon Loss: 0.35841: Latent Loss: 0.14144: Sparsity Loss: 0.00000: Recon Accuracy: 0.90056\n",
      "Epoch = 185, Iteration = 0 Total Loss: 0.49552: Recon Loss: 0.35399: Latent Loss: 0.14153: Sparsity Loss: 0.00000: Recon Accuracy: 0.90122\n",
      "Epoch = 186, Iteration = 0 Total Loss: 0.49235: Recon Loss: 0.35183: Latent Loss: 0.14052: Sparsity Loss: 0.00000: Recon Accuracy: 0.90144\n",
      "Epoch = 187, Iteration = 0 Total Loss: 0.49308: Recon Loss: 0.35316: Latent Loss: 0.13993: Sparsity Loss: 0.00000: Recon Accuracy: 0.90175\n",
      "Epoch = 188, Iteration = 0 Total Loss: 0.50216: Recon Loss: 0.36290: Latent Loss: 0.13926: Sparsity Loss: 0.00000: Recon Accuracy: 0.90144\n",
      "Epoch = 189, Iteration = 0 Total Loss: 0.49143: Recon Loss: 0.35297: Latent Loss: 0.13846: Sparsity Loss: 0.00000: Recon Accuracy: 0.90181\n",
      "Epoch = 190, Iteration = 0 Total Loss: 0.48880: Recon Loss: 0.35064: Latent Loss: 0.13816: Sparsity Loss: 0.00000: Recon Accuracy: 0.90337\n",
      "Epoch = 191, Iteration = 0 Total Loss: 0.49376: Recon Loss: 0.35516: Latent Loss: 0.13860: Sparsity Loss: 0.00000: Recon Accuracy: 0.90364\n",
      "Epoch = 192, Iteration = 0 Total Loss: 0.48704: Recon Loss: 0.34804: Latent Loss: 0.13900: Sparsity Loss: 0.00000: Recon Accuracy: 0.90340\n",
      "Epoch = 193, Iteration = 0 Total Loss: 0.49506: Recon Loss: 0.35640: Latent Loss: 0.13866: Sparsity Loss: 0.00000: Recon Accuracy: 0.90231\n",
      "Epoch = 194, Iteration = 0 Total Loss: 0.49250: Recon Loss: 0.35416: Latent Loss: 0.13835: Sparsity Loss: 0.00000: Recon Accuracy: 0.90279\n",
      "Epoch = 195, Iteration = 0 Total Loss: 0.48587: Recon Loss: 0.34784: Latent Loss: 0.13803: Sparsity Loss: 0.00000: Recon Accuracy: 0.90321\n",
      "Epoch = 196, Iteration = 0 Total Loss: 0.49310: Recon Loss: 0.35515: Latent Loss: 0.13795: Sparsity Loss: 0.00000: Recon Accuracy: 0.90455\n",
      "Epoch = 197, Iteration = 0 Total Loss: 0.47465: Recon Loss: 0.33635: Latent Loss: 0.13829: Sparsity Loss: 0.00000: Recon Accuracy: 0.90614\n",
      "Epoch = 198, Iteration = 0 Total Loss: 0.48168: Recon Loss: 0.34308: Latent Loss: 0.13860: Sparsity Loss: 0.00000: Recon Accuracy: 0.90441\n",
      "Epoch = 199, Iteration = 0 Total Loss: 0.47490: Recon Loss: 0.33653: Latent Loss: 0.13837: Sparsity Loss: 0.00000: Recon Accuracy: 0.90553\n",
      "Epoch = 200, Iteration = 0 Total Loss: 0.47698: Recon Loss: 0.33950: Latent Loss: 0.13748: Sparsity Loss: 0.00000: Recon Accuracy: 0.90612\n",
      "Epoch = 201, Iteration = 0 Total Loss: 0.48040: Recon Loss: 0.34352: Latent Loss: 0.13688: Sparsity Loss: 0.00000: Recon Accuracy: 0.90677\n",
      "Epoch = 202, Iteration = 0 Total Loss: 0.48018: Recon Loss: 0.34329: Latent Loss: 0.13690: Sparsity Loss: 0.00000: Recon Accuracy: 0.90457\n",
      "Epoch = 203, Iteration = 0 Total Loss: 0.48458: Recon Loss: 0.34709: Latent Loss: 0.13749: Sparsity Loss: 0.00000: Recon Accuracy: 0.90484\n",
      "Epoch = 204, Iteration = 0 Total Loss: 0.47275: Recon Loss: 0.33575: Latent Loss: 0.13700: Sparsity Loss: 0.00000: Recon Accuracy: 0.90666\n",
      "Epoch = 205, Iteration = 0 Total Loss: 0.47723: Recon Loss: 0.34069: Latent Loss: 0.13653: Sparsity Loss: 0.00000: Recon Accuracy: 0.90718\n",
      "Epoch = 206, Iteration = 0 Total Loss: 0.48293: Recon Loss: 0.34662: Latent Loss: 0.13631: Sparsity Loss: 0.00000: Recon Accuracy: 0.90601\n",
      "Epoch = 207, Iteration = 0 Total Loss: 0.47331: Recon Loss: 0.33717: Latent Loss: 0.13614: Sparsity Loss: 0.00000: Recon Accuracy: 0.90605\n",
      "Epoch = 208, Iteration = 0 Total Loss: 0.47314: Recon Loss: 0.33641: Latent Loss: 0.13673: Sparsity Loss: 0.00000: Recon Accuracy: 0.90682\n",
      "Epoch = 209, Iteration = 0 Total Loss: 0.48266: Recon Loss: 0.34581: Latent Loss: 0.13685: Sparsity Loss: 0.00000: Recon Accuracy: 0.90682\n",
      "Epoch = 210, Iteration = 0 Total Loss: 0.47212: Recon Loss: 0.33543: Latent Loss: 0.13670: Sparsity Loss: 0.00000: Recon Accuracy: 0.90730\n",
      "Epoch = 211, Iteration = 0 Total Loss: 0.46562: Recon Loss: 0.32902: Latent Loss: 0.13660: Sparsity Loss: 0.00000: Recon Accuracy: 0.90816\n",
      "Epoch = 212, Iteration = 0 Total Loss: 0.46695: Recon Loss: 0.33051: Latent Loss: 0.13645: Sparsity Loss: 0.00000: Recon Accuracy: 0.90768\n",
      "Epoch = 213, Iteration = 0 Total Loss: 0.46343: Recon Loss: 0.32718: Latent Loss: 0.13625: Sparsity Loss: 0.00000: Recon Accuracy: 0.90941\n",
      "Epoch = 214, Iteration = 0 Total Loss: 0.47193: Recon Loss: 0.33541: Latent Loss: 0.13652: Sparsity Loss: 0.00000: Recon Accuracy: 0.90792\n",
      "Epoch = 215, Iteration = 0 Total Loss: 0.46859: Recon Loss: 0.33225: Latent Loss: 0.13633: Sparsity Loss: 0.00000: Recon Accuracy: 0.90819\n",
      "Epoch = 216, Iteration = 0 Total Loss: 0.45922: Recon Loss: 0.32319: Latent Loss: 0.13603: Sparsity Loss: 0.00000: Recon Accuracy: 0.90994\n",
      "Epoch = 217, Iteration = 0 Total Loss: 0.46701: Recon Loss: 0.33058: Latent Loss: 0.13643: Sparsity Loss: 0.00000: Recon Accuracy: 0.90841\n",
      "Epoch = 218, Iteration = 0 Total Loss: 0.47376: Recon Loss: 0.33710: Latent Loss: 0.13666: Sparsity Loss: 0.00000: Recon Accuracy: 0.90804\n",
      "Epoch = 219, Iteration = 0 Total Loss: 0.45966: Recon Loss: 0.32272: Latent Loss: 0.13694: Sparsity Loss: 0.00000: Recon Accuracy: 0.90980\n",
      "Epoch = 220, Iteration = 0 Total Loss: 0.46254: Recon Loss: 0.32475: Latent Loss: 0.13778: Sparsity Loss: 0.00000: Recon Accuracy: 0.90992\n",
      "Epoch = 221, Iteration = 0 Total Loss: 0.45643: Recon Loss: 0.31889: Latent Loss: 0.13754: Sparsity Loss: 0.00000: Recon Accuracy: 0.91092\n",
      "Epoch = 222, Iteration = 0 Total Loss: 0.45203: Recon Loss: 0.31484: Latent Loss: 0.13718: Sparsity Loss: 0.00000: Recon Accuracy: 0.91263\n",
      "Epoch = 223, Iteration = 0 Total Loss: 0.45960: Recon Loss: 0.32290: Latent Loss: 0.13670: Sparsity Loss: 0.00000: Recon Accuracy: 0.91045\n",
      "Epoch = 224, Iteration = 0 Total Loss: 0.45191: Recon Loss: 0.31571: Latent Loss: 0.13620: Sparsity Loss: 0.00000: Recon Accuracy: 0.91197\n"
     ]
    },
    {
     "name": "stdout",
     "output_type": "stream",
     "text": [
      "Epoch = 225, Iteration = 0 Total Loss: 0.45587: Recon Loss: 0.32010: Latent Loss: 0.13577: Sparsity Loss: 0.00000: Recon Accuracy: 0.91081\n",
      "Epoch = 226, Iteration = 0 Total Loss: 0.45868: Recon Loss: 0.32313: Latent Loss: 0.13555: Sparsity Loss: 0.00000: Recon Accuracy: 0.91056\n",
      "Epoch = 227, Iteration = 0 Total Loss: 0.44810: Recon Loss: 0.31273: Latent Loss: 0.13538: Sparsity Loss: 0.00000: Recon Accuracy: 0.91402\n",
      "Epoch = 228, Iteration = 0 Total Loss: 0.44862: Recon Loss: 0.31329: Latent Loss: 0.13532: Sparsity Loss: 0.00000: Recon Accuracy: 0.91325\n",
      "Epoch = 229, Iteration = 0 Total Loss: 0.45177: Recon Loss: 0.31691: Latent Loss: 0.13486: Sparsity Loss: 0.00000: Recon Accuracy: 0.91211\n",
      "Epoch = 230, Iteration = 0 Total Loss: 0.45143: Recon Loss: 0.31682: Latent Loss: 0.13461: Sparsity Loss: 0.00000: Recon Accuracy: 0.91243\n",
      "Epoch = 231, Iteration = 0 Total Loss: 0.45734: Recon Loss: 0.32287: Latent Loss: 0.13448: Sparsity Loss: 0.00000: Recon Accuracy: 0.91165\n",
      "Epoch = 232, Iteration = 0 Total Loss: 0.44871: Recon Loss: 0.31430: Latent Loss: 0.13441: Sparsity Loss: 0.00000: Recon Accuracy: 0.91319\n",
      "Epoch = 233, Iteration = 0 Total Loss: 0.45081: Recon Loss: 0.31617: Latent Loss: 0.13464: Sparsity Loss: 0.00000: Recon Accuracy: 0.91228\n",
      "Epoch = 234, Iteration = 0 Total Loss: 0.44430: Recon Loss: 0.30932: Latent Loss: 0.13498: Sparsity Loss: 0.00000: Recon Accuracy: 0.91381\n",
      "Epoch = 235, Iteration = 0 Total Loss: 0.43486: Recon Loss: 0.30001: Latent Loss: 0.13485: Sparsity Loss: 0.00000: Recon Accuracy: 0.91546\n",
      "Epoch = 236, Iteration = 0 Total Loss: 0.44196: Recon Loss: 0.30735: Latent Loss: 0.13461: Sparsity Loss: 0.00000: Recon Accuracy: 0.91481\n",
      "Epoch = 237, Iteration = 0 Total Loss: 0.44584: Recon Loss: 0.31110: Latent Loss: 0.13474: Sparsity Loss: 0.00000: Recon Accuracy: 0.91333\n",
      "Epoch = 238, Iteration = 0 Total Loss: 0.44448: Recon Loss: 0.31017: Latent Loss: 0.13431: Sparsity Loss: 0.00000: Recon Accuracy: 0.91483\n",
      "Epoch = 239, Iteration = 0 Total Loss: 0.44932: Recon Loss: 0.31525: Latent Loss: 0.13407: Sparsity Loss: 0.00000: Recon Accuracy: 0.91412\n",
      "Epoch = 240, Iteration = 0 Total Loss: 0.44271: Recon Loss: 0.30910: Latent Loss: 0.13361: Sparsity Loss: 0.00000: Recon Accuracy: 0.91399\n",
      "Epoch = 241, Iteration = 0 Total Loss: 0.44196: Recon Loss: 0.30851: Latent Loss: 0.13344: Sparsity Loss: 0.00000: Recon Accuracy: 0.91415\n",
      "Epoch = 242, Iteration = 0 Total Loss: 0.43549: Recon Loss: 0.30155: Latent Loss: 0.13394: Sparsity Loss: 0.00000: Recon Accuracy: 0.91505\n",
      "Epoch = 243, Iteration = 0 Total Loss: 0.43981: Recon Loss: 0.30553: Latent Loss: 0.13428: Sparsity Loss: 0.00000: Recon Accuracy: 0.91422\n",
      "Epoch = 244, Iteration = 0 Total Loss: 0.44014: Recon Loss: 0.30602: Latent Loss: 0.13412: Sparsity Loss: 0.00000: Recon Accuracy: 0.91558\n",
      "Epoch = 245, Iteration = 0 Total Loss: 0.43581: Recon Loss: 0.30242: Latent Loss: 0.13339: Sparsity Loss: 0.00000: Recon Accuracy: 0.91518\n",
      "Epoch = 246, Iteration = 0 Total Loss: 0.44881: Recon Loss: 0.31613: Latent Loss: 0.13268: Sparsity Loss: 0.00000: Recon Accuracy: 0.91327\n",
      "Epoch = 247, Iteration = 0 Total Loss: 0.44192: Recon Loss: 0.30936: Latent Loss: 0.13256: Sparsity Loss: 0.00000: Recon Accuracy: 0.91533\n",
      "Epoch = 248, Iteration = 0 Total Loss: 0.43421: Recon Loss: 0.30139: Latent Loss: 0.13282: Sparsity Loss: 0.00000: Recon Accuracy: 0.91594\n",
      "Epoch = 249, Iteration = 0 Total Loss: 0.43692: Recon Loss: 0.30395: Latent Loss: 0.13297: Sparsity Loss: 0.00000: Recon Accuracy: 0.91536\n",
      "Epoch = 250, Iteration = 0 Total Loss: 0.43199: Recon Loss: 0.29940: Latent Loss: 0.13259: Sparsity Loss: 0.00000: Recon Accuracy: 0.91507\n",
      "Epoch = 251, Iteration = 0 Total Loss: 0.44131: Recon Loss: 0.30940: Latent Loss: 0.13190: Sparsity Loss: 0.00000: Recon Accuracy: 0.91516\n",
      "Epoch = 252, Iteration = 0 Total Loss: 0.43800: Recon Loss: 0.30640: Latent Loss: 0.13160: Sparsity Loss: 0.00000: Recon Accuracy: 0.91455\n",
      "Epoch = 253, Iteration = 0 Total Loss: 0.43421: Recon Loss: 0.30212: Latent Loss: 0.13209: Sparsity Loss: 0.00000: Recon Accuracy: 0.91604\n",
      "Epoch = 254, Iteration = 0 Total Loss: 0.43473: Recon Loss: 0.30303: Latent Loss: 0.13170: Sparsity Loss: 0.00000: Recon Accuracy: 0.91586\n",
      "Epoch = 255, Iteration = 0 Total Loss: 0.44155: Recon Loss: 0.30979: Latent Loss: 0.13176: Sparsity Loss: 0.00000: Recon Accuracy: 0.91343\n",
      "Epoch = 256, Iteration = 0 Total Loss: 0.44024: Recon Loss: 0.30732: Latent Loss: 0.13292: Sparsity Loss: 0.00000: Recon Accuracy: 0.91513\n",
      "Epoch = 257, Iteration = 0 Total Loss: 0.43258: Recon Loss: 0.29931: Latent Loss: 0.13327: Sparsity Loss: 0.00000: Recon Accuracy: 0.91572\n",
      "Epoch = 258, Iteration = 0 Total Loss: 0.43350: Recon Loss: 0.30001: Latent Loss: 0.13349: Sparsity Loss: 0.00000: Recon Accuracy: 0.91707\n",
      "Epoch = 259, Iteration = 0 Total Loss: 0.42776: Recon Loss: 0.29436: Latent Loss: 0.13339: Sparsity Loss: 0.00000: Recon Accuracy: 0.91689\n",
      "Epoch = 260, Iteration = 0 Total Loss: 0.42766: Recon Loss: 0.29449: Latent Loss: 0.13317: Sparsity Loss: 0.00000: Recon Accuracy: 0.91725\n",
      "Epoch = 261, Iteration = 0 Total Loss: 0.43361: Recon Loss: 0.30046: Latent Loss: 0.13316: Sparsity Loss: 0.00000: Recon Accuracy: 0.91596\n",
      "Epoch = 262, Iteration = 0 Total Loss: 0.42150: Recon Loss: 0.28830: Latent Loss: 0.13319: Sparsity Loss: 0.00000: Recon Accuracy: 0.91703\n",
      "Epoch = 263, Iteration = 0 Total Loss: 0.42765: Recon Loss: 0.29424: Latent Loss: 0.13341: Sparsity Loss: 0.00000: Recon Accuracy: 0.91733\n",
      "Epoch = 264, Iteration = 0 Total Loss: 0.44266: Recon Loss: 0.30872: Latent Loss: 0.13394: Sparsity Loss: 0.00000: Recon Accuracy: 0.91436\n",
      "Epoch = 265, Iteration = 0 Total Loss: 0.42411: Recon Loss: 0.28976: Latent Loss: 0.13436: Sparsity Loss: 0.00000: Recon Accuracy: 0.91808\n",
      "Epoch = 266, Iteration = 0 Total Loss: 0.42622: Recon Loss: 0.29189: Latent Loss: 0.13433: Sparsity Loss: 0.00000: Recon Accuracy: 0.91824\n",
      "Epoch = 267, Iteration = 0 Total Loss: 0.43110: Recon Loss: 0.29718: Latent Loss: 0.13391: Sparsity Loss: 0.00000: Recon Accuracy: 0.91668\n",
      "Epoch = 268, Iteration = 0 Total Loss: 0.42538: Recon Loss: 0.29174: Latent Loss: 0.13364: Sparsity Loss: 0.00000: Recon Accuracy: 0.91832\n",
      "Epoch = 269, Iteration = 0 Total Loss: 0.44025: Recon Loss: 0.30631: Latent Loss: 0.13394: Sparsity Loss: 0.00000: Recon Accuracy: 0.91796\n",
      "Epoch = 270, Iteration = 0 Total Loss: 0.42489: Recon Loss: 0.29037: Latent Loss: 0.13453: Sparsity Loss: 0.00000: Recon Accuracy: 0.91688\n",
      "Epoch = 271, Iteration = 0 Total Loss: 0.42502: Recon Loss: 0.29115: Latent Loss: 0.13386: Sparsity Loss: 0.00000: Recon Accuracy: 0.91834\n",
      "Epoch = 272, Iteration = 0 Total Loss: 0.42617: Recon Loss: 0.29288: Latent Loss: 0.13329: Sparsity Loss: 0.00000: Recon Accuracy: 0.91791\n",
      "Epoch = 273, Iteration = 0 Total Loss: 0.43232: Recon Loss: 0.29939: Latent Loss: 0.13293: Sparsity Loss: 0.00000: Recon Accuracy: 0.91655\n",
      "Epoch = 274, Iteration = 0 Total Loss: 0.42009: Recon Loss: 0.28748: Latent Loss: 0.13262: Sparsity Loss: 0.00000: Recon Accuracy: 0.91968\n",
      "Epoch = 275, Iteration = 0 Total Loss: 0.42360: Recon Loss: 0.29105: Latent Loss: 0.13255: Sparsity Loss: 0.00000: Recon Accuracy: 0.91874\n",
      "Epoch = 276, Iteration = 0 Total Loss: 0.44669: Recon Loss: 0.31474: Latent Loss: 0.13195: Sparsity Loss: 0.00000: Recon Accuracy: 0.91536\n",
      "Epoch = 277, Iteration = 0 Total Loss: 0.41424: Recon Loss: 0.28263: Latent Loss: 0.13161: Sparsity Loss: 0.00000: Recon Accuracy: 0.91993\n",
      "Epoch = 278, Iteration = 0 Total Loss: 0.42711: Recon Loss: 0.29501: Latent Loss: 0.13210: Sparsity Loss: 0.00000: Recon Accuracy: 0.91866\n",
      "Epoch = 279, Iteration = 0 Total Loss: 0.42380: Recon Loss: 0.29093: Latent Loss: 0.13286: Sparsity Loss: 0.00000: Recon Accuracy: 0.91960\n",
      "Epoch = 280, Iteration = 0 Total Loss: 0.42112: Recon Loss: 0.28774: Latent Loss: 0.13338: Sparsity Loss: 0.00000: Recon Accuracy: 0.92090\n",
      "Epoch = 281, Iteration = 0 Total Loss: 0.41664: Recon Loss: 0.28348: Latent Loss: 0.13316: Sparsity Loss: 0.00000: Recon Accuracy: 0.91975\n",
      "Epoch = 282, Iteration = 0 Total Loss: 0.42466: Recon Loss: 0.29204: Latent Loss: 0.13261: Sparsity Loss: 0.00000: Recon Accuracy: 0.91962\n",
      "Epoch = 283, Iteration = 0 Total Loss: 0.42032: Recon Loss: 0.28713: Latent Loss: 0.13319: Sparsity Loss: 0.00000: Recon Accuracy: 0.91968\n",
      "Epoch = 284, Iteration = 0 Total Loss: 0.41613: Recon Loss: 0.28247: Latent Loss: 0.13366: Sparsity Loss: 0.00000: Recon Accuracy: 0.92004\n",
      "Epoch = 285, Iteration = 0 Total Loss: 0.41289: Recon Loss: 0.27894: Latent Loss: 0.13395: Sparsity Loss: 0.00000: Recon Accuracy: 0.92102\n",
      "Epoch = 286, Iteration = 0 Total Loss: 0.41586: Recon Loss: 0.28149: Latent Loss: 0.13437: Sparsity Loss: 0.00000: Recon Accuracy: 0.92076\n",
      "Epoch = 287, Iteration = 0 Total Loss: 0.41164: Recon Loss: 0.27725: Latent Loss: 0.13439: Sparsity Loss: 0.00000: Recon Accuracy: 0.92181\n",
      "Epoch = 288, Iteration = 0 Total Loss: 0.41237: Recon Loss: 0.27807: Latent Loss: 0.13430: Sparsity Loss: 0.00000: Recon Accuracy: 0.92205\n"
     ]
    },
    {
     "name": "stdout",
     "output_type": "stream",
     "text": [
      "Epoch = 289, Iteration = 0 Total Loss: 0.41673: Recon Loss: 0.28263: Latent Loss: 0.13411: Sparsity Loss: 0.00000: Recon Accuracy: 0.92173\n",
      "Epoch = 290, Iteration = 0 Total Loss: 0.41301: Recon Loss: 0.27898: Latent Loss: 0.13403: Sparsity Loss: 0.00000: Recon Accuracy: 0.92138\n",
      "Epoch = 291, Iteration = 0 Total Loss: 0.41098: Recon Loss: 0.27670: Latent Loss: 0.13429: Sparsity Loss: 0.00000: Recon Accuracy: 0.92189\n",
      "Epoch = 292, Iteration = 0 Total Loss: 0.41063: Recon Loss: 0.27661: Latent Loss: 0.13402: Sparsity Loss: 0.00000: Recon Accuracy: 0.92189\n",
      "Epoch = 293, Iteration = 0 Total Loss: 0.41466: Recon Loss: 0.28114: Latent Loss: 0.13352: Sparsity Loss: 0.00000: Recon Accuracy: 0.92135\n",
      "Epoch = 294, Iteration = 0 Total Loss: 0.41529: Recon Loss: 0.28225: Latent Loss: 0.13305: Sparsity Loss: 0.00000: Recon Accuracy: 0.92147\n",
      "Epoch = 295, Iteration = 0 Total Loss: 0.40771: Recon Loss: 0.27512: Latent Loss: 0.13259: Sparsity Loss: 0.00000: Recon Accuracy: 0.92213\n",
      "Epoch = 296, Iteration = 0 Total Loss: 0.40580: Recon Loss: 0.27316: Latent Loss: 0.13264: Sparsity Loss: 0.00000: Recon Accuracy: 0.92355\n",
      "Epoch = 297, Iteration = 0 Total Loss: 0.41046: Recon Loss: 0.27781: Latent Loss: 0.13265: Sparsity Loss: 0.00000: Recon Accuracy: 0.92226\n",
      "Epoch = 298, Iteration = 0 Total Loss: 0.40830: Recon Loss: 0.27623: Latent Loss: 0.13207: Sparsity Loss: 0.00000: Recon Accuracy: 0.92203\n",
      "Epoch = 299, Iteration = 0 Total Loss: 0.40640: Recon Loss: 0.27477: Latent Loss: 0.13163: Sparsity Loss: 0.00000: Recon Accuracy: 0.92205\n",
      "Epoch = 300, Iteration = 0 Total Loss: 0.40329: Recon Loss: 0.27124: Latent Loss: 0.13206: Sparsity Loss: 0.00000: Recon Accuracy: 0.92394\n",
      "Epoch = 301, Iteration = 0 Total Loss: 0.40890: Recon Loss: 0.27664: Latent Loss: 0.13225: Sparsity Loss: 0.00000: Recon Accuracy: 0.92294\n",
      "Epoch = 302, Iteration = 0 Total Loss: 0.40671: Recon Loss: 0.27466: Latent Loss: 0.13205: Sparsity Loss: 0.00000: Recon Accuracy: 0.92270\n",
      "Epoch = 303, Iteration = 0 Total Loss: 0.40224: Recon Loss: 0.27047: Latent Loss: 0.13177: Sparsity Loss: 0.00000: Recon Accuracy: 0.92374\n",
      "Epoch = 304, Iteration = 0 Total Loss: 0.41275: Recon Loss: 0.28084: Latent Loss: 0.13191: Sparsity Loss: 0.00000: Recon Accuracy: 0.92174\n",
      "Epoch = 305, Iteration = 0 Total Loss: 0.41221: Recon Loss: 0.28075: Latent Loss: 0.13146: Sparsity Loss: 0.00000: Recon Accuracy: 0.92321\n",
      "Epoch = 306, Iteration = 0 Total Loss: 0.39771: Recon Loss: 0.26653: Latent Loss: 0.13118: Sparsity Loss: 0.00000: Recon Accuracy: 0.92435\n",
      "Epoch = 307, Iteration = 0 Total Loss: 0.41654: Recon Loss: 0.28551: Latent Loss: 0.13102: Sparsity Loss: 0.00000: Recon Accuracy: 0.92121\n",
      "Epoch = 308, Iteration = 0 Total Loss: 0.41371: Recon Loss: 0.28290: Latent Loss: 0.13081: Sparsity Loss: 0.00000: Recon Accuracy: 0.92166\n",
      "Epoch = 309, Iteration = 0 Total Loss: 0.40226: Recon Loss: 0.27095: Latent Loss: 0.13131: Sparsity Loss: 0.00000: Recon Accuracy: 0.92346\n",
      "Epoch = 310, Iteration = 0 Total Loss: 0.40359: Recon Loss: 0.27140: Latent Loss: 0.13219: Sparsity Loss: 0.00000: Recon Accuracy: 0.92281\n",
      "Epoch = 311, Iteration = 0 Total Loss: 0.40002: Recon Loss: 0.26699: Latent Loss: 0.13303: Sparsity Loss: 0.00000: Recon Accuracy: 0.92455\n",
      "Epoch = 312, Iteration = 0 Total Loss: 0.40497: Recon Loss: 0.27165: Latent Loss: 0.13333: Sparsity Loss: 0.00000: Recon Accuracy: 0.92427\n",
      "Epoch = 313, Iteration = 0 Total Loss: 0.40204: Recon Loss: 0.26909: Latent Loss: 0.13295: Sparsity Loss: 0.00000: Recon Accuracy: 0.92398\n",
      "Epoch = 314, Iteration = 0 Total Loss: 0.40224: Recon Loss: 0.26948: Latent Loss: 0.13276: Sparsity Loss: 0.00000: Recon Accuracy: 0.92359\n",
      "Epoch = 315, Iteration = 0 Total Loss: 0.39956: Recon Loss: 0.26666: Latent Loss: 0.13290: Sparsity Loss: 0.00000: Recon Accuracy: 0.92459\n",
      "Epoch = 316, Iteration = 0 Total Loss: 0.40845: Recon Loss: 0.27517: Latent Loss: 0.13328: Sparsity Loss: 0.00000: Recon Accuracy: 0.92364\n",
      "Epoch = 317, Iteration = 0 Total Loss: 0.39839: Recon Loss: 0.26510: Latent Loss: 0.13330: Sparsity Loss: 0.00000: Recon Accuracy: 0.92445\n",
      "Epoch = 318, Iteration = 0 Total Loss: 0.39804: Recon Loss: 0.26501: Latent Loss: 0.13303: Sparsity Loss: 0.00000: Recon Accuracy: 0.92493\n",
      "Epoch = 319, Iteration = 0 Total Loss: 0.39558: Recon Loss: 0.26282: Latent Loss: 0.13276: Sparsity Loss: 0.00000: Recon Accuracy: 0.92488\n",
      "Epoch = 320, Iteration = 0 Total Loss: 0.40301: Recon Loss: 0.27054: Latent Loss: 0.13247: Sparsity Loss: 0.00000: Recon Accuracy: 0.92337\n",
      "Epoch = 321, Iteration = 0 Total Loss: 0.39709: Recon Loss: 0.26484: Latent Loss: 0.13225: Sparsity Loss: 0.00000: Recon Accuracy: 0.92516\n",
      "Epoch = 322, Iteration = 0 Total Loss: 0.39467: Recon Loss: 0.26264: Latent Loss: 0.13203: Sparsity Loss: 0.00000: Recon Accuracy: 0.92532\n",
      "Epoch = 323, Iteration = 0 Total Loss: 0.39273: Recon Loss: 0.26088: Latent Loss: 0.13185: Sparsity Loss: 0.00000: Recon Accuracy: 0.92560\n",
      "Epoch = 324, Iteration = 0 Total Loss: 0.39002: Recon Loss: 0.25893: Latent Loss: 0.13109: Sparsity Loss: 0.00000: Recon Accuracy: 0.92604\n",
      "Epoch = 325, Iteration = 0 Total Loss: 0.40098: Recon Loss: 0.27046: Latent Loss: 0.13052: Sparsity Loss: 0.00000: Recon Accuracy: 0.92370\n",
      "Epoch = 326, Iteration = 0 Total Loss: 0.39578: Recon Loss: 0.26596: Latent Loss: 0.12982: Sparsity Loss: 0.00000: Recon Accuracy: 0.92563\n",
      "Epoch = 327, Iteration = 0 Total Loss: 0.38790: Recon Loss: 0.25883: Latent Loss: 0.12907: Sparsity Loss: 0.00000: Recon Accuracy: 0.92590\n",
      "Epoch = 328, Iteration = 0 Total Loss: 0.39209: Recon Loss: 0.26347: Latent Loss: 0.12862: Sparsity Loss: 0.00000: Recon Accuracy: 0.92557\n",
      "Epoch = 329, Iteration = 0 Total Loss: 0.40316: Recon Loss: 0.27466: Latent Loss: 0.12851: Sparsity Loss: 0.00000: Recon Accuracy: 0.92360\n",
      "Epoch = 330, Iteration = 0 Total Loss: 0.39514: Recon Loss: 0.26653: Latent Loss: 0.12861: Sparsity Loss: 0.00000: Recon Accuracy: 0.92486\n",
      "Epoch = 331, Iteration = 0 Total Loss: 0.38919: Recon Loss: 0.26015: Latent Loss: 0.12904: Sparsity Loss: 0.00000: Recon Accuracy: 0.92511\n",
      "Epoch = 332, Iteration = 0 Total Loss: 0.39004: Recon Loss: 0.26029: Latent Loss: 0.12976: Sparsity Loss: 0.00000: Recon Accuracy: 0.92569\n",
      "Epoch = 333, Iteration = 0 Total Loss: 0.39670: Recon Loss: 0.26654: Latent Loss: 0.13015: Sparsity Loss: 0.00000: Recon Accuracy: 0.92501\n",
      "Epoch = 334, Iteration = 0 Total Loss: 0.39520: Recon Loss: 0.26464: Latent Loss: 0.13056: Sparsity Loss: 0.00000: Recon Accuracy: 0.92487\n",
      "Epoch = 335, Iteration = 0 Total Loss: 0.39483: Recon Loss: 0.26398: Latent Loss: 0.13084: Sparsity Loss: 0.00000: Recon Accuracy: 0.92558\n",
      "Epoch = 336, Iteration = 0 Total Loss: 0.38617: Recon Loss: 0.25559: Latent Loss: 0.13057: Sparsity Loss: 0.00000: Recon Accuracy: 0.92624\n",
      "Epoch = 337, Iteration = 0 Total Loss: 0.38450: Recon Loss: 0.25401: Latent Loss: 0.13049: Sparsity Loss: 0.00000: Recon Accuracy: 0.92587\n",
      "Epoch = 338, Iteration = 0 Total Loss: 0.38711: Recon Loss: 0.25648: Latent Loss: 0.13063: Sparsity Loss: 0.00000: Recon Accuracy: 0.92724\n",
      "Epoch = 339, Iteration = 0 Total Loss: 0.39763: Recon Loss: 0.26700: Latent Loss: 0.13063: Sparsity Loss: 0.00000: Recon Accuracy: 0.92591\n",
      "Epoch = 340, Iteration = 0 Total Loss: 0.39142: Recon Loss: 0.26082: Latent Loss: 0.13060: Sparsity Loss: 0.00000: Recon Accuracy: 0.92708\n",
      "Epoch = 341, Iteration = 0 Total Loss: 0.39237: Recon Loss: 0.26179: Latent Loss: 0.13058: Sparsity Loss: 0.00000: Recon Accuracy: 0.92600\n",
      "Epoch = 342, Iteration = 0 Total Loss: 0.38412: Recon Loss: 0.25378: Latent Loss: 0.13035: Sparsity Loss: 0.00000: Recon Accuracy: 0.92716\n",
      "Epoch = 343, Iteration = 0 Total Loss: 0.39511: Recon Loss: 0.26488: Latent Loss: 0.13023: Sparsity Loss: 0.00000: Recon Accuracy: 0.92568\n",
      "Epoch = 344, Iteration = 0 Total Loss: 0.38347: Recon Loss: 0.25305: Latent Loss: 0.13042: Sparsity Loss: 0.00000: Recon Accuracy: 0.92652\n",
      "Epoch = 345, Iteration = 0 Total Loss: 0.38713: Recon Loss: 0.25670: Latent Loss: 0.13042: Sparsity Loss: 0.00000: Recon Accuracy: 0.92705\n",
      "Epoch = 346, Iteration = 0 Total Loss: 0.38513: Recon Loss: 0.25477: Latent Loss: 0.13036: Sparsity Loss: 0.00000: Recon Accuracy: 0.92692\n",
      "Epoch = 347, Iteration = 0 Total Loss: 0.38175: Recon Loss: 0.25137: Latent Loss: 0.13038: Sparsity Loss: 0.00000: Recon Accuracy: 0.92811\n",
      "Epoch = 348, Iteration = 0 Total Loss: 0.38855: Recon Loss: 0.25841: Latent Loss: 0.13014: Sparsity Loss: 0.00000: Recon Accuracy: 0.92676\n",
      "Epoch = 349, Iteration = 0 Total Loss: 0.38294: Recon Loss: 0.25342: Latent Loss: 0.12953: Sparsity Loss: 0.00000: Recon Accuracy: 0.92667\n",
      "Epoch = 350, Iteration = 0 Total Loss: 0.38976: Recon Loss: 0.26055: Latent Loss: 0.12921: Sparsity Loss: 0.00000: Recon Accuracy: 0.92733\n",
      "Epoch = 351, Iteration = 0 Total Loss: 0.38571: Recon Loss: 0.25626: Latent Loss: 0.12945: Sparsity Loss: 0.00000: Recon Accuracy: 0.92694\n",
      "Epoch = 352, Iteration = 0 Total Loss: 0.38547: Recon Loss: 0.25521: Latent Loss: 0.13026: Sparsity Loss: 0.00000: Recon Accuracy: 0.92658\n",
      "Epoch = 353, Iteration = 0 Total Loss: 0.38679: Recon Loss: 0.25622: Latent Loss: 0.13057: Sparsity Loss: 0.00000: Recon Accuracy: 0.92761\n"
     ]
    },
    {
     "name": "stdout",
     "output_type": "stream",
     "text": [
      "Epoch = 354, Iteration = 0 Total Loss: 0.38754: Recon Loss: 0.25729: Latent Loss: 0.13025: Sparsity Loss: 0.00000: Recon Accuracy: 0.92781\n",
      "Epoch = 355, Iteration = 0 Total Loss: 0.38280: Recon Loss: 0.25273: Latent Loss: 0.13007: Sparsity Loss: 0.00000: Recon Accuracy: 0.92768\n",
      "Epoch = 356, Iteration = 0 Total Loss: 0.37364: Recon Loss: 0.24332: Latent Loss: 0.13032: Sparsity Loss: 0.00000: Recon Accuracy: 0.92973\n",
      "Epoch = 357, Iteration = 0 Total Loss: 0.38546: Recon Loss: 0.25526: Latent Loss: 0.13020: Sparsity Loss: 0.00000: Recon Accuracy: 0.92782\n",
      "Epoch = 358, Iteration = 0 Total Loss: 0.37632: Recon Loss: 0.24705: Latent Loss: 0.12927: Sparsity Loss: 0.00000: Recon Accuracy: 0.92891\n",
      "Epoch = 359, Iteration = 0 Total Loss: 0.37821: Recon Loss: 0.24966: Latent Loss: 0.12855: Sparsity Loss: 0.00000: Recon Accuracy: 0.92850\n",
      "Epoch = 360, Iteration = 0 Total Loss: 0.37825: Recon Loss: 0.25001: Latent Loss: 0.12824: Sparsity Loss: 0.00000: Recon Accuracy: 0.92914\n",
      "Epoch = 361, Iteration = 0 Total Loss: 0.37886: Recon Loss: 0.25062: Latent Loss: 0.12825: Sparsity Loss: 0.00000: Recon Accuracy: 0.92839\n",
      "Epoch = 362, Iteration = 0 Total Loss: 0.38449: Recon Loss: 0.25537: Latent Loss: 0.12912: Sparsity Loss: 0.00000: Recon Accuracy: 0.92762\n",
      "Epoch = 363, Iteration = 0 Total Loss: 0.38819: Recon Loss: 0.25888: Latent Loss: 0.12931: Sparsity Loss: 0.00000: Recon Accuracy: 0.92792\n",
      "Epoch = 364, Iteration = 0 Total Loss: 0.37065: Recon Loss: 0.24221: Latent Loss: 0.12843: Sparsity Loss: 0.00000: Recon Accuracy: 0.93049\n",
      "Epoch = 365, Iteration = 0 Total Loss: 0.37522: Recon Loss: 0.24730: Latent Loss: 0.12792: Sparsity Loss: 0.00000: Recon Accuracy: 0.92865\n",
      "Epoch = 366, Iteration = 0 Total Loss: 0.37586: Recon Loss: 0.24800: Latent Loss: 0.12786: Sparsity Loss: 0.00000: Recon Accuracy: 0.92840\n",
      "Epoch = 367, Iteration = 0 Total Loss: 0.38409: Recon Loss: 0.25593: Latent Loss: 0.12816: Sparsity Loss: 0.00000: Recon Accuracy: 0.92813\n",
      "Epoch = 368, Iteration = 0 Total Loss: 0.38628: Recon Loss: 0.25741: Latent Loss: 0.12888: Sparsity Loss: 0.00000: Recon Accuracy: 0.92877\n",
      "Epoch = 369, Iteration = 0 Total Loss: 0.37854: Recon Loss: 0.24928: Latent Loss: 0.12927: Sparsity Loss: 0.00000: Recon Accuracy: 0.92882\n",
      "Epoch = 370, Iteration = 0 Total Loss: 0.37725: Recon Loss: 0.24792: Latent Loss: 0.12933: Sparsity Loss: 0.00000: Recon Accuracy: 0.92919\n",
      "Epoch = 371, Iteration = 0 Total Loss: 0.37341: Recon Loss: 0.24409: Latent Loss: 0.12932: Sparsity Loss: 0.00000: Recon Accuracy: 0.93000\n",
      "Epoch = 372, Iteration = 0 Total Loss: 0.38165: Recon Loss: 0.25243: Latent Loss: 0.12922: Sparsity Loss: 0.00000: Recon Accuracy: 0.92850\n",
      "Epoch = 373, Iteration = 0 Total Loss: 0.37389: Recon Loss: 0.24497: Latent Loss: 0.12892: Sparsity Loss: 0.00000: Recon Accuracy: 0.92993\n",
      "Epoch = 374, Iteration = 0 Total Loss: 0.37719: Recon Loss: 0.24839: Latent Loss: 0.12879: Sparsity Loss: 0.00000: Recon Accuracy: 0.92977\n",
      "Epoch = 375, Iteration = 0 Total Loss: 0.38145: Recon Loss: 0.25236: Latent Loss: 0.12909: Sparsity Loss: 0.00000: Recon Accuracy: 0.92930\n",
      "Epoch = 376, Iteration = 0 Total Loss: 0.39521: Recon Loss: 0.26555: Latent Loss: 0.12967: Sparsity Loss: 0.00000: Recon Accuracy: 0.92772\n",
      "Epoch = 377, Iteration = 0 Total Loss: 0.37249: Recon Loss: 0.24253: Latent Loss: 0.12995: Sparsity Loss: 0.00000: Recon Accuracy: 0.93052\n",
      "Epoch = 378, Iteration = 0 Total Loss: 0.37592: Recon Loss: 0.24555: Latent Loss: 0.13037: Sparsity Loss: 0.00000: Recon Accuracy: 0.92988\n",
      "Epoch = 379, Iteration = 0 Total Loss: 0.37110: Recon Loss: 0.24041: Latent Loss: 0.13069: Sparsity Loss: 0.00000: Recon Accuracy: 0.93097\n",
      "Epoch = 380, Iteration = 0 Total Loss: 0.37014: Recon Loss: 0.23898: Latent Loss: 0.13116: Sparsity Loss: 0.00000: Recon Accuracy: 0.92980\n",
      "Epoch = 381, Iteration = 0 Total Loss: 0.37376: Recon Loss: 0.24237: Latent Loss: 0.13140: Sparsity Loss: 0.00000: Recon Accuracy: 0.93040\n",
      "Epoch = 382, Iteration = 0 Total Loss: 0.38136: Recon Loss: 0.24978: Latent Loss: 0.13157: Sparsity Loss: 0.00000: Recon Accuracy: 0.92902\n",
      "Epoch = 383, Iteration = 0 Total Loss: 0.37258: Recon Loss: 0.24058: Latent Loss: 0.13200: Sparsity Loss: 0.00000: Recon Accuracy: 0.93057\n",
      "Epoch = 384, Iteration = 0 Total Loss: 0.37766: Recon Loss: 0.24578: Latent Loss: 0.13187: Sparsity Loss: 0.00000: Recon Accuracy: 0.92956\n",
      "Epoch = 385, Iteration = 0 Total Loss: 0.36742: Recon Loss: 0.23576: Latent Loss: 0.13166: Sparsity Loss: 0.00000: Recon Accuracy: 0.93116\n",
      "Epoch = 386, Iteration = 0 Total Loss: 0.37199: Recon Loss: 0.24053: Latent Loss: 0.13147: Sparsity Loss: 0.00000: Recon Accuracy: 0.93097\n",
      "Epoch = 387, Iteration = 0 Total Loss: 0.37037: Recon Loss: 0.23943: Latent Loss: 0.13094: Sparsity Loss: 0.00000: Recon Accuracy: 0.93099\n",
      "Epoch = 388, Iteration = 0 Total Loss: 0.37126: Recon Loss: 0.24064: Latent Loss: 0.13062: Sparsity Loss: 0.00000: Recon Accuracy: 0.93066\n",
      "Epoch = 389, Iteration = 0 Total Loss: 0.37678: Recon Loss: 0.24645: Latent Loss: 0.13033: Sparsity Loss: 0.00000: Recon Accuracy: 0.93115\n",
      "Epoch = 390, Iteration = 0 Total Loss: 0.36600: Recon Loss: 0.23587: Latent Loss: 0.13012: Sparsity Loss: 0.00000: Recon Accuracy: 0.93113\n",
      "Epoch = 391, Iteration = 0 Total Loss: 0.36703: Recon Loss: 0.23713: Latent Loss: 0.12990: Sparsity Loss: 0.00000: Recon Accuracy: 0.93163\n",
      "Epoch = 392, Iteration = 0 Total Loss: 0.37857: Recon Loss: 0.24861: Latent Loss: 0.12995: Sparsity Loss: 0.00000: Recon Accuracy: 0.92983\n",
      "Epoch = 393, Iteration = 0 Total Loss: 0.37404: Recon Loss: 0.24434: Latent Loss: 0.12970: Sparsity Loss: 0.00000: Recon Accuracy: 0.93154\n",
      "Epoch = 394, Iteration = 0 Total Loss: 0.37332: Recon Loss: 0.24436: Latent Loss: 0.12897: Sparsity Loss: 0.00000: Recon Accuracy: 0.93100\n",
      "Epoch = 395, Iteration = 0 Total Loss: 0.37099: Recon Loss: 0.24270: Latent Loss: 0.12829: Sparsity Loss: 0.00000: Recon Accuracy: 0.93140\n",
      "Epoch = 396, Iteration = 0 Total Loss: 0.37813: Recon Loss: 0.24980: Latent Loss: 0.12832: Sparsity Loss: 0.00000: Recon Accuracy: 0.92973\n",
      "Epoch = 397, Iteration = 0 Total Loss: 0.37440: Recon Loss: 0.24572: Latent Loss: 0.12868: Sparsity Loss: 0.00000: Recon Accuracy: 0.93015\n",
      "Epoch = 398, Iteration = 0 Total Loss: 0.36639: Recon Loss: 0.23746: Latent Loss: 0.12893: Sparsity Loss: 0.00000: Recon Accuracy: 0.93126\n",
      "Epoch = 399, Iteration = 0 Total Loss: 0.37146: Recon Loss: 0.24272: Latent Loss: 0.12874: Sparsity Loss: 0.00000: Recon Accuracy: 0.93047\n",
      "Epoch = 400, Iteration = 0 Total Loss: 0.37021: Recon Loss: 0.24163: Latent Loss: 0.12858: Sparsity Loss: 0.00000: Recon Accuracy: 0.93067\n",
      "Epoch = 401, Iteration = 0 Total Loss: 0.36649: Recon Loss: 0.23807: Latent Loss: 0.12842: Sparsity Loss: 0.00000: Recon Accuracy: 0.93140\n",
      "Epoch = 402, Iteration = 0 Total Loss: 0.37220: Recon Loss: 0.24400: Latent Loss: 0.12820: Sparsity Loss: 0.00000: Recon Accuracy: 0.93025\n",
      "Epoch = 403, Iteration = 0 Total Loss: 0.37146: Recon Loss: 0.24337: Latent Loss: 0.12809: Sparsity Loss: 0.00000: Recon Accuracy: 0.93021\n",
      "Epoch = 404, Iteration = 0 Total Loss: 0.36563: Recon Loss: 0.23718: Latent Loss: 0.12845: Sparsity Loss: 0.00000: Recon Accuracy: 0.92981\n",
      "Epoch = 405, Iteration = 0 Total Loss: 0.36657: Recon Loss: 0.23718: Latent Loss: 0.12938: Sparsity Loss: 0.00000: Recon Accuracy: 0.93197\n",
      "Epoch = 406, Iteration = 0 Total Loss: 0.36235: Recon Loss: 0.23215: Latent Loss: 0.13020: Sparsity Loss: 0.00000: Recon Accuracy: 0.93201\n",
      "Epoch = 407, Iteration = 0 Total Loss: 0.35847: Recon Loss: 0.22770: Latent Loss: 0.13076: Sparsity Loss: 0.00000: Recon Accuracy: 0.93262\n",
      "Epoch = 408, Iteration = 0 Total Loss: 0.36263: Recon Loss: 0.23171: Latent Loss: 0.13092: Sparsity Loss: 0.00000: Recon Accuracy: 0.93303\n",
      "Epoch = 409, Iteration = 0 Total Loss: 0.36573: Recon Loss: 0.23505: Latent Loss: 0.13069: Sparsity Loss: 0.00000: Recon Accuracy: 0.93224\n",
      "Epoch = 410, Iteration = 0 Total Loss: 0.36598: Recon Loss: 0.23602: Latent Loss: 0.12996: Sparsity Loss: 0.00000: Recon Accuracy: 0.93177\n",
      "Epoch = 411, Iteration = 0 Total Loss: 0.36014: Recon Loss: 0.23072: Latent Loss: 0.12941: Sparsity Loss: 0.00000: Recon Accuracy: 0.93212\n",
      "Epoch = 412, Iteration = 0 Total Loss: 0.36710: Recon Loss: 0.23781: Latent Loss: 0.12928: Sparsity Loss: 0.00000: Recon Accuracy: 0.93190\n",
      "Epoch = 413, Iteration = 0 Total Loss: 0.36054: Recon Loss: 0.23138: Latent Loss: 0.12916: Sparsity Loss: 0.00000: Recon Accuracy: 0.93272\n",
      "Epoch = 414, Iteration = 0 Total Loss: 0.36282: Recon Loss: 0.23351: Latent Loss: 0.12931: Sparsity Loss: 0.00000: Recon Accuracy: 0.93339\n",
      "Epoch = 415, Iteration = 0 Total Loss: 0.36778: Recon Loss: 0.23836: Latent Loss: 0.12942: Sparsity Loss: 0.00000: Recon Accuracy: 0.93171\n",
      "Epoch = 416, Iteration = 0 Total Loss: 0.35910: Recon Loss: 0.22977: Latent Loss: 0.12933: Sparsity Loss: 0.00000: Recon Accuracy: 0.93307\n",
      "Epoch = 417, Iteration = 0 Total Loss: 0.36341: Recon Loss: 0.23393: Latent Loss: 0.12948: Sparsity Loss: 0.00000: Recon Accuracy: 0.93306\n"
     ]
    },
    {
     "name": "stdout",
     "output_type": "stream",
     "text": [
      "Epoch = 418, Iteration = 0 Total Loss: 0.36247: Recon Loss: 0.23302: Latent Loss: 0.12946: Sparsity Loss: 0.00000: Recon Accuracy: 0.93240\n",
      "Epoch = 419, Iteration = 0 Total Loss: 0.35615: Recon Loss: 0.22679: Latent Loss: 0.12936: Sparsity Loss: 0.00000: Recon Accuracy: 0.93349\n",
      "Epoch = 420, Iteration = 0 Total Loss: 0.35964: Recon Loss: 0.23053: Latent Loss: 0.12911: Sparsity Loss: 0.00000: Recon Accuracy: 0.93279\n",
      "Epoch = 421, Iteration = 0 Total Loss: 0.35785: Recon Loss: 0.22888: Latent Loss: 0.12897: Sparsity Loss: 0.00000: Recon Accuracy: 0.93244\n",
      "Epoch = 422, Iteration = 0 Total Loss: 0.35052: Recon Loss: 0.22176: Latent Loss: 0.12876: Sparsity Loss: 0.00000: Recon Accuracy: 0.93439\n",
      "Epoch = 423, Iteration = 0 Total Loss: 0.36216: Recon Loss: 0.23378: Latent Loss: 0.12837: Sparsity Loss: 0.00000: Recon Accuracy: 0.93265\n",
      "Epoch = 424, Iteration = 0 Total Loss: 0.36210: Recon Loss: 0.23405: Latent Loss: 0.12805: Sparsity Loss: 0.00000: Recon Accuracy: 0.93248\n",
      "Epoch = 425, Iteration = 0 Total Loss: 0.36029: Recon Loss: 0.23230: Latent Loss: 0.12800: Sparsity Loss: 0.00000: Recon Accuracy: 0.93253\n",
      "Epoch = 426, Iteration = 0 Total Loss: 0.35295: Recon Loss: 0.22491: Latent Loss: 0.12804: Sparsity Loss: 0.00000: Recon Accuracy: 0.93466\n",
      "Epoch = 427, Iteration = 0 Total Loss: 0.35863: Recon Loss: 0.23046: Latent Loss: 0.12817: Sparsity Loss: 0.00000: Recon Accuracy: 0.93357\n",
      "Epoch = 428, Iteration = 0 Total Loss: 0.36521: Recon Loss: 0.23723: Latent Loss: 0.12798: Sparsity Loss: 0.00000: Recon Accuracy: 0.93260\n",
      "Epoch = 429, Iteration = 0 Total Loss: 0.35449: Recon Loss: 0.22662: Latent Loss: 0.12786: Sparsity Loss: 0.00000: Recon Accuracy: 0.93369\n",
      "Epoch = 430, Iteration = 0 Total Loss: 0.35663: Recon Loss: 0.22859: Latent Loss: 0.12804: Sparsity Loss: 0.00000: Recon Accuracy: 0.93363\n",
      "Epoch = 431, Iteration = 0 Total Loss: 0.36116: Recon Loss: 0.23303: Latent Loss: 0.12813: Sparsity Loss: 0.00000: Recon Accuracy: 0.93266\n",
      "Epoch = 432, Iteration = 0 Total Loss: 0.35239: Recon Loss: 0.22440: Latent Loss: 0.12799: Sparsity Loss: 0.00000: Recon Accuracy: 0.93363\n",
      "Epoch = 433, Iteration = 0 Total Loss: 0.35279: Recon Loss: 0.22518: Latent Loss: 0.12761: Sparsity Loss: 0.00000: Recon Accuracy: 0.93312\n",
      "Epoch = 434, Iteration = 0 Total Loss: 0.35634: Recon Loss: 0.22903: Latent Loss: 0.12730: Sparsity Loss: 0.00000: Recon Accuracy: 0.93310\n",
      "Epoch = 435, Iteration = 0 Total Loss: 0.36190: Recon Loss: 0.23458: Latent Loss: 0.12732: Sparsity Loss: 0.00000: Recon Accuracy: 0.93262\n",
      "Epoch = 436, Iteration = 0 Total Loss: 0.35394: Recon Loss: 0.22670: Latent Loss: 0.12723: Sparsity Loss: 0.00000: Recon Accuracy: 0.93559\n",
      "Epoch = 437, Iteration = 0 Total Loss: 0.35744: Recon Loss: 0.23048: Latent Loss: 0.12696: Sparsity Loss: 0.00000: Recon Accuracy: 0.93335\n",
      "Epoch = 438, Iteration = 0 Total Loss: 0.35666: Recon Loss: 0.23014: Latent Loss: 0.12652: Sparsity Loss: 0.00000: Recon Accuracy: 0.93383\n",
      "Epoch = 439, Iteration = 0 Total Loss: 0.35592: Recon Loss: 0.22964: Latent Loss: 0.12628: Sparsity Loss: 0.00000: Recon Accuracy: 0.93421\n",
      "Epoch = 440, Iteration = 0 Total Loss: 0.35738: Recon Loss: 0.23112: Latent Loss: 0.12625: Sparsity Loss: 0.00000: Recon Accuracy: 0.93306\n",
      "Epoch = 441, Iteration = 0 Total Loss: 0.36021: Recon Loss: 0.23356: Latent Loss: 0.12665: Sparsity Loss: 0.00000: Recon Accuracy: 0.93282\n",
      "Epoch = 442, Iteration = 0 Total Loss: 0.34839: Recon Loss: 0.22145: Latent Loss: 0.12695: Sparsity Loss: 0.00000: Recon Accuracy: 0.93525\n",
      "Epoch = 443, Iteration = 0 Total Loss: 0.34849: Recon Loss: 0.22133: Latent Loss: 0.12715: Sparsity Loss: 0.00000: Recon Accuracy: 0.93426\n",
      "Epoch = 444, Iteration = 0 Total Loss: 0.34844: Recon Loss: 0.22099: Latent Loss: 0.12744: Sparsity Loss: 0.00000: Recon Accuracy: 0.93514\n",
      "Epoch = 445, Iteration = 0 Total Loss: 0.34913: Recon Loss: 0.22145: Latent Loss: 0.12768: Sparsity Loss: 0.00000: Recon Accuracy: 0.93518\n",
      "Epoch = 446, Iteration = 0 Total Loss: 0.35142: Recon Loss: 0.22397: Latent Loss: 0.12745: Sparsity Loss: 0.00000: Recon Accuracy: 0.93461\n",
      "Epoch = 447, Iteration = 0 Total Loss: 0.35163: Recon Loss: 0.22463: Latent Loss: 0.12700: Sparsity Loss: 0.00000: Recon Accuracy: 0.93427\n",
      "Epoch = 448, Iteration = 0 Total Loss: 0.34922: Recon Loss: 0.22244: Latent Loss: 0.12678: Sparsity Loss: 0.00000: Recon Accuracy: 0.93592\n",
      "Epoch = 449, Iteration = 0 Total Loss: 0.34994: Recon Loss: 0.22304: Latent Loss: 0.12690: Sparsity Loss: 0.00000: Recon Accuracy: 0.93395\n",
      "Epoch = 450, Iteration = 0 Total Loss: 0.35195: Recon Loss: 0.22457: Latent Loss: 0.12737: Sparsity Loss: 0.00000: Recon Accuracy: 0.93541\n",
      "Epoch = 451, Iteration = 0 Total Loss: 0.36019: Recon Loss: 0.23267: Latent Loss: 0.12752: Sparsity Loss: 0.00000: Recon Accuracy: 0.93280\n",
      "Epoch = 452, Iteration = 0 Total Loss: 0.35402: Recon Loss: 0.22686: Latent Loss: 0.12715: Sparsity Loss: 0.00000: Recon Accuracy: 0.93526\n",
      "Epoch = 453, Iteration = 0 Total Loss: 0.34451: Recon Loss: 0.21740: Latent Loss: 0.12711: Sparsity Loss: 0.00000: Recon Accuracy: 0.93612\n",
      "Epoch = 454, Iteration = 0 Total Loss: 0.35445: Recon Loss: 0.22710: Latent Loss: 0.12735: Sparsity Loss: 0.00000: Recon Accuracy: 0.93395\n",
      "Epoch = 455, Iteration = 0 Total Loss: 0.34947: Recon Loss: 0.22241: Latent Loss: 0.12706: Sparsity Loss: 0.00000: Recon Accuracy: 0.93498\n",
      "Epoch = 456, Iteration = 0 Total Loss: 0.35241: Recon Loss: 0.22570: Latent Loss: 0.12672: Sparsity Loss: 0.00000: Recon Accuracy: 0.93515\n",
      "Epoch = 457, Iteration = 0 Total Loss: 0.35274: Recon Loss: 0.22625: Latent Loss: 0.12649: Sparsity Loss: 0.00000: Recon Accuracy: 0.93470\n",
      "Epoch = 458, Iteration = 0 Total Loss: 0.35931: Recon Loss: 0.23285: Latent Loss: 0.12647: Sparsity Loss: 0.00000: Recon Accuracy: 0.93468\n",
      "Epoch = 459, Iteration = 0 Total Loss: 0.35649: Recon Loss: 0.23018: Latent Loss: 0.12630: Sparsity Loss: 0.00000: Recon Accuracy: 0.93411\n",
      "Epoch = 460, Iteration = 0 Total Loss: 0.34927: Recon Loss: 0.22235: Latent Loss: 0.12691: Sparsity Loss: 0.00000: Recon Accuracy: 0.93563\n",
      "Epoch = 461, Iteration = 0 Total Loss: 0.34857: Recon Loss: 0.22052: Latent Loss: 0.12806: Sparsity Loss: 0.00000: Recon Accuracy: 0.93626\n",
      "Epoch = 462, Iteration = 0 Total Loss: 0.34875: Recon Loss: 0.21988: Latent Loss: 0.12887: Sparsity Loss: 0.00000: Recon Accuracy: 0.93628\n",
      "Epoch = 463, Iteration = 0 Total Loss: 0.34722: Recon Loss: 0.21792: Latent Loss: 0.12931: Sparsity Loss: 0.00000: Recon Accuracy: 0.93650\n",
      "Epoch = 464, Iteration = 0 Total Loss: 0.35202: Recon Loss: 0.22226: Latent Loss: 0.12976: Sparsity Loss: 0.00000: Recon Accuracy: 0.93569\n",
      "Epoch = 465, Iteration = 0 Total Loss: 0.34878: Recon Loss: 0.21886: Latent Loss: 0.12992: Sparsity Loss: 0.00000: Recon Accuracy: 0.93535\n",
      "Epoch = 466, Iteration = 0 Total Loss: 0.35316: Recon Loss: 0.22387: Latent Loss: 0.12929: Sparsity Loss: 0.00000: Recon Accuracy: 0.93481\n",
      "Epoch = 467, Iteration = 0 Total Loss: 0.35004: Recon Loss: 0.22118: Latent Loss: 0.12887: Sparsity Loss: 0.00000: Recon Accuracy: 0.93497\n",
      "Epoch = 468, Iteration = 0 Total Loss: 0.36169: Recon Loss: 0.23284: Latent Loss: 0.12885: Sparsity Loss: 0.00000: Recon Accuracy: 0.93365\n",
      "Epoch = 469, Iteration = 0 Total Loss: 0.35923: Recon Loss: 0.23009: Latent Loss: 0.12914: Sparsity Loss: 0.00000: Recon Accuracy: 0.93445\n",
      "Epoch = 470, Iteration = 0 Total Loss: 0.36002: Recon Loss: 0.23023: Latent Loss: 0.12980: Sparsity Loss: 0.00000: Recon Accuracy: 0.93448\n",
      "Reconstruction Accuracy: 0.93588\n",
      "INFO:tensorflow:Tutorial/models/model_0/model.ckpt is not in all_model_checkpoint_paths. Manually adding it.\n",
      "Training Done\n"
     ]
    }
   ],
   "source": [
    "#Train VAE\n",
    "DTCRU.Train_VAE(Load_Prev_Data=False)"
   ]
  },
  {
   "cell_type": "markdown",
   "metadata": {},
   "source": [
    "We note that during training, statistics are output to the user inclluding the various types of losses and the reconstruction accuracy of the autoencoder. If no minimum accuracy is provided, the network will train until a convergence criterion is met. Of note, we can also change the latent dimensionality by modifying the latent_dim parameter. "
   ]
  },
  {
   "cell_type": "code",
   "execution_count": 3,
   "metadata": {},
   "outputs": [
    {
     "name": "stdout",
     "output_type": "stream",
     "text": [
      "INFO:tensorflow:Tutorial/models/model_0/model.ckpt is not in all_model_checkpoint_paths. Manually adding it.\n"
     ]
    }
   ],
   "source": [
    "%%capture\n",
    "DTCRU.Train_VAE(Load_Prev_Data=False,accuracy_min=0.9,latent_dim=12)"
   ]
  },
  {
   "cell_type": "markdown",
   "metadata": {},
   "source": [
    "We can also choose to suppress the commandline output and use only sequence information or only gene-usage information as so:"
   ]
  },
  {
   "cell_type": "code",
   "execution_count": 4,
   "metadata": {},
   "outputs": [
    {
     "name": "stdout",
     "output_type": "stream",
     "text": [
      "Reconstruction Accuracy: 0.90054\n",
      "INFO:tensorflow:Tutorial/models/model_0/model.ckpt is not in all_model_checkpoint_paths. Manually adding it.\n",
      "Training Done\n"
     ]
    }
   ],
   "source": [
    "DTCRU.Train_VAE(Load_Prev_Data=False,accuracy_min=0.9,latent_dim=12,suppress_output=True)"
   ]
  },
  {
   "cell_type": "code",
   "execution_count": 5,
   "metadata": {},
   "outputs": [
    {
     "name": "stdout",
     "output_type": "stream",
     "text": [
      "Reconstruction Accuracy: 0.99569\n",
      "INFO:tensorflow:Tutorial/models/model_0/model.ckpt is not in all_model_checkpoint_paths. Manually adding it.\n",
      "Training Done\n"
     ]
    }
   ],
   "source": [
    "DTCRU.Train_VAE(Load_Prev_Data=False,latent_dim=12,suppress_output=True,use_only_gene=True)"
   ]
  },
  {
   "cell_type": "markdown",
   "metadata": {},
   "source": [
    "Following training, we can extract the featurized data by pulling the object variable called features."
   ]
  },
  {
   "cell_type": "code",
   "execution_count": 6,
   "metadata": {},
   "outputs": [
    {
     "name": "stdout",
     "output_type": "stream",
     "text": [
      "(2437, 12)\n"
     ]
    }
   ],
   "source": [
    "features = DTCRU.features\n",
    "print(features.shape)"
   ]
  },
  {
   "cell_type": "markdown",
   "metadata": {},
   "source": [
    "## Training VAE with Sparsity"
   ]
  },
  {
   "cell_type": "markdown",
   "metadata": {},
   "source": [
    "One of the key parameters in training the VAE is choosing the number of latent dimensions to train the model to (latent_dim). The more complex the repertoire one is trying to fit the model to, the more dimensions one needs. One can either play with this hyperparameter to find the minimum number of latent dimensions to fit the data of we can use a feature of the VAE that learns the minimum number of latent dimensions to cover the data while not sacrificing reconstruction accuracy.\n",
    "\n",
    "To do this, we will set the sparsity_alpha parameter to a penalty which enforces how sparse we want our latent representation to be. If the value is too small, we the model will not shrink the dimensional space. If too large, the model will not be able to fit to the data.\n",
    "\n",
    "As the model trains with this sparsity constraint, it softly turns off neurons in the latent space. To select how many neurons to keep after training, one can set the var_explained parameter to keep the number of latent dimensions to capture the desired explained variance in the dataset (akin to PCA). Here, we will set the sparsity_alpha to 1.0 and the var_explained to 0.99 (capturing 99% of the explained variance)."
   ]
  },
  {
   "cell_type": "code",
   "execution_count": 4,
   "metadata": {},
   "outputs": [
    {
     "name": "stdout",
     "output_type": "stream",
     "text": [
      "INFO:tensorflow:Tutorial/models/model_0/model.ckpt is not in all_model_checkpoint_paths. Manually adding it.\n"
     ]
    }
   ],
   "source": [
    "%%capture\n",
    "DTCRU.Train_VAE(Load_Prev_Data=False,sparsity_alpha=1.0,var_explained = 0.99)"
   ]
  },
  {
   "cell_type": "markdown",
   "metadata": {},
   "source": [
    "We can now look at the constrained feature space via heatmap."
   ]
  },
  {
   "cell_type": "code",
   "execution_count": 6,
   "metadata": {},
   "outputs": [
    {
     "data": {
      "image/png": "[encoded data removed]",
      "text/plain": [
       "<Figure size 720x720 with 5 Axes>"
      ]
     },
     "metadata": {},
     "output_type": "display_data"
    },
    {
     "data": {
      "text/plain": [
       "<Figure size 432x288 with 0 Axes>"
      ]
     },
     "metadata": {},
     "output_type": "display_data"
    }
   ],
   "source": [
    "DTCRU.HeatMap_Sequences()"
   ]
  },
  {
   "cell_type": "markdown",
   "metadata": {},
   "source": [
    "We can see here that we've learned a feature space that is only 19 dimensions from the provided initial 256 to cover the data. This can be helpful for downstream analysis to reduce the computational burden. These dimensions also will tend to be more independent as we are encouraging the model to find the minimal number of dimensions to cover the data."
   ]
  },
  {
   "cell_type": "markdown",
   "metadata": {},
   "source": [
    "We can also plot the explained variance ratio (akin to PCA over all the dimensions) and the cumulative sum of the explained variance ratio as follows."
   ]
  },
  {
   "cell_type": "code",
   "execution_count": 9,
   "metadata": {},
   "outputs": [
    {
     "data": {
      "text/plain": [
       "[<matplotlib.lines.Line2D at 0x7f9e0c30f828>]"
      ]
     },
     "execution_count": 9,
     "metadata": {},
     "output_type": "execute_result"
    },
    {
     "data": {
      "image/png": "[encoded data removed]",
      "text/plain": [
       "<Figure size 432x288 with 1 Axes>"
      ]
     },
     "metadata": {},
     "output_type": "display_data"
    }
   ],
   "source": [
    "import matplotlib.pyplot as plt\n",
    "plt.plot(DTCRU.explained_variance_ratio_)"
   ]
  },
  {
   "cell_type": "code",
   "execution_count": 12,
   "metadata": {},
   "outputs": [
    {
     "data": {
      "text/plain": [
       "[<matplotlib.lines.Line2D at 0x7f9e0c4ae518>]"
      ]
     },
     "execution_count": 12,
     "metadata": {},
     "output_type": "execute_result"
    },
    {
     "data": {
      "image/png": "[encoded data removed]",
      "text/plain": [
       "<Figure size 432x288 with 1 Axes>"
      ]
     },
     "metadata": {},
     "output_type": "display_data"
    }
   ],
   "source": [
    "import numpy as np\n",
    "plt.plot(np.cumsum(DTCRU.explained_variance_ratio_))"
   ]
  },
  {
   "cell_type": "markdown",
   "metadata": {},
   "source": [
    "And thus we can see that most the latent dimensions were turned off and we only needed a subset to cover our data."
   ]
  },
  {
   "cell_type": "code",
   "execution_count": null,
   "metadata": {},
   "outputs": [],
   "source": []
  }
 ],
 "metadata": {
  "kernelspec": {
   "display_name": "deeptcr",
   "language": "python",
   "name": "deeptcr"
  },
  "language_info": {
   "codemirror_mode": {
    "name": "ipython",
    "version": 3
   },
   "file_extension": ".py",
   "mimetype": "text/x-python",
   "name": "python",
   "nbconvert_exporter": "python",
   "pygments_lexer": "ipython3",
   "version": "3.6.9"
  }
 },
 "nbformat": 4,
 "nbformat_minor": 2
}
