{
 "cells": [
  {
   "cell_type": "markdown",
   "metadata": {},
   "source": [
    "# Clustering TCR Sequences"
   ]
  },
  {
   "cell_type": "markdown",
   "metadata": {},
   "source": [
    "Following featurization of the TCRSeq data, users will often want to cluster the TCRSeq data to identify possible antigen-specific clusters of sequences. In order to do this, we have provided multiple ways for clustering your TCR sequences."
   ]
  },
  {
   "cell_type": "markdown",
   "metadata": {},
   "source": [
    "## Phenograph Clustering"
   ]
  },
  {
   "cell_type": "markdown",
   "metadata": {},
   "source": [
    "The first method we will explore is using a network-graph based clustering algorithm called Phenograph (https://github.com/jacoblevine/PhenoGraph). This method automatically determines the number of clusters in the data by maximizing the modularity of the network-graph asssembled from the data. Of note, this algorithm is very fast and will be useful for when there are possibly thousands to tens of thouands of sequences to cluster. However, clusters by this method tend to be quite large."
   ]
  },
  {
   "cell_type": "markdown",
   "metadata": {},
   "source": [
    "First, we will load data and train the VAE."
   ]
  },
  {
   "cell_type": "code",
   "execution_count": 1,
   "metadata": {},
   "outputs": [],
   "source": [
    "%%capture\n",
    "import sys\n",
    "sys.path.append('../../')\n",
    "from DeepTCR.DeepTCR import DeepTCR_U\n",
    "\n",
    "# Instantiate training object\n",
    "DTCRU = DeepTCR_U('Tutorial')\n",
    "\n",
    "#Load Data from directories\n",
    "DTCRU.Get_Data(directory='../../Data/Murine_Antigens',Load_Prev_Data=False,aggregate_by_aa=True,\n",
    "               aa_column_beta=0,count_column=1,v_beta_column=2,j_beta_column=3)\n",
    "\n",
    "#Train VAE\n",
    "DTCRU.Train_VAE(Load_Prev_Data=False)\n"
   ]
  },
  {
   "cell_type": "markdown",
   "metadata": {},
   "source": [
    "We will then run the clustering command."
   ]
  },
  {
   "cell_type": "code",
   "execution_count": 2,
   "metadata": {},
   "outputs": [
    {
     "name": "stdout",
     "output_type": "stream",
     "text": [
      "Finding 30 nearest neighbors using minkowski metric and 'auto' algorithm\n",
      "Neighbors computed in 2.322746992111206 seconds\n",
      "Jaccard graph constructed in 0.8609929084777832 seconds\n",
      "Wrote graph to binary file in 0.2611570358276367 seconds\n",
      "Running Louvain modularity optimization\n",
      "After 1 runs, maximum modularity is Q = 0.88163\n",
      "After 2 runs, maximum modularity is Q = 0.883347\n",
      "Louvain completed 22 runs in 3.532525062561035 seconds\n",
      "PhenoGraph complete in 7.001564025878906 seconds\n",
      "Clustering Done\n"
     ]
    }
   ],
   "source": [
    "DTCRU.Cluster(clustering_method='phenograph')"
   ]
  },
  {
   "cell_type": "markdown",
   "metadata": {},
   "source": [
    "Following clustering, we can view the clustering solutions by looking at the object variable called Cluster_DFs."
   ]
  },
  {
   "cell_type": "code",
   "execution_count": 3,
   "metadata": {},
   "outputs": [
    {
     "name": "stdout",
     "output_type": "stream",
     "text": [
      "    Alpha_Sequences     Beta_Sequences   Labels              Sample  \\\n",
      "0              None     CASSIGQYNSPLYF    Db-F2           Db-F2.tsv   \n",
      "1              None    CASSPGTGGTERLFF    Db-F2           Db-F2.tsv   \n",
      "2              None      CASSPGASSDYTF    Db-F2           Db-F2.tsv   \n",
      "3              None      CASSPGANSDYTF    Db-F2           Db-F2.tsv   \n",
      "4              None    CASSRDISYNSPLYF    Db-F2           Db-F2.tsv   \n",
      "5              None     CASSQGQIGSDYTF    Db-F2           Db-F2.tsv   \n",
      "6              None      CASSQGAYSDYTF    Db-F2           Db-F2.tsv   \n",
      "7              None    CASSPDSSYNSPLYF    Db-F2           Db-F2.tsv   \n",
      "8              None     CASSDFISNERLFF    Db-F2           Db-F2.tsv   \n",
      "9              None    CASRPDISYNSPLYF    Db-F2           Db-F2.tsv   \n",
      "10             None      CASGTGENSDYTF    Db-F2           Db-F2.tsv   \n",
      "11             None      CASSMGANERLFF    Db-F2           Db-F2.tsv   \n",
      "12             None  CAWSPLTGGESGNTLYF   Db-M45          Db-M45.tsv   \n",
      "13             None     CASSLVGQGPDYTF   Db-M45          Db-M45.tsv   \n",
      "14             None      CASSFTANSDYTF   Db-M45          Db-M45.tsv   \n",
      "15             None    CASSGQNSYNSPLYF   Db-M45          Db-M45.tsv   \n",
      "16             None     CASNRREYNSPLYF   Db-M45          Db-M45.tsv   \n",
      "17             None    CASSDVGTINERLFF   Db-M45          Db-M45.tsv   \n",
      "18             None  CASSQDRRNSYNSPLYF    Db-NP           Db-NP.tsv   \n",
      "19             None  CASSHDRRNSYNSPLYF    Db-NP           Db-NP.tsv   \n",
      "20             None  CASSQDRRSSYNSPLYF    Db-NP           Db-NP.tsv   \n",
      "21             None   CASSQESLPSNERLFF    Db-NP           Db-NP.tsv   \n",
      "22             None    CASSQERGSGNTLYF    Db-NP           Db-NP.tsv   \n",
      "23             None    CASSQDQGAPERLFF    Db-NP           Db-NP.tsv   \n",
      "24             None  CLSIQDRRVSYNSPLYF    Db-NP           Db-NP.tsv   \n",
      "25             None     CASSRTAPNERLFF    Db-NP           Db-NP.tsv   \n",
      "26             None     CASSPGPTNERLFF    Db-NP           Db-NP.tsv   \n",
      "27             None  CASGQDRRNSYNSPLYF    Db-NP           Db-NP.tsv   \n",
      "28             None    CASSLTAISNERLFF    Db-NP           Db-NP.tsv   \n",
      "29             None    CASSHSRGQVDTQYF    Db-NP           Db-NP.tsv   \n",
      "..              ...                ...      ...                 ...   \n",
      "172            None     LKPLLLFSNERLFF  Kb-TRP2  Kb-3_Sp_T_TRP2.tsv   \n",
      "173            None    KQVLKAFSNYAEQFF  Kb-TRP2  Kb-3_Sp_T_TRP2.tsv   \n",
      "174            None    HQTAYDTISNERLFF  Kb-TRP2  Kb-3_Sp_T_TRP2.tsv   \n",
      "175            None    HGVTQAFSNYAEQFF  Kb-TRP2  Kb-3_Sp_T_TRP2.tsv   \n",
      "176            None    AYTGSGYHSGNTLYF  Kb-TRP2  Kb-3_Sp_T_TRP2.tsv   \n",
      "177            None    AHTGSGYHSGNTLYF  Kb-TRP2  Kb-3_Sp_T_TRP2.tsv   \n",
      "178            None    CASSQEMGSGNTLYF  Kb-TRP2  Kb-3_Sp_T_TRP2.tsv   \n",
      "179            None    CASSQDLGNNERLFF  Kb-TRP2  Kb-3_Sp_T_TRP2.tsv   \n",
      "180            None     CASSLSISNERLFF  Kb-TRP2  Kb-3_Sp_T_TRP2.tsv   \n",
      "181            None    QKTAYDTISNERLFF  Kb-TRP2   Kb-7_dLN_TRP2.tsv   \n",
      "182            None   CASSQDLRDSQDTQYF  Kb-TRP2   Kb-7_dLN_TRP2.tsv   \n",
      "183            None    CASSFHRDYNSPLYF  Kb-TRP2   Kb-7_dLN_TRP2.tsv   \n",
      "184            None    EDTAYDTISNERLFF  Kb-TRP2   Kb-7_dLN_TRP2.tsv   \n",
      "185            None         GVDESRHLCW  Kb-TRP2   Kb-7_dLN_TRP2.tsv   \n",
      "186            None    GSQPRDSSYNSPLYF  Kb-TRP2   Kb-7_dLN_TRP2.tsv   \n",
      "187            None     CSSSHQGTNERLFF  Kb-TRP2   Kb-7_dLN_TRP2.tsv   \n",
      "188            None   GLQLSRDSSYNSPLYF  Kb-TRP2   Kb-7_dLN_TRP2.tsv   \n",
      "189            None     SPHRTGWPALALTD  Kb-TRP2   Kb-7_dLN_TRP2.tsv   \n",
      "190            None    RSIAHDTISNERLFF  Kb-TRP2   Kb-7_dLN_TRP2.tsv   \n",
      "191            None      NCHNTWPNSDYTF  Kb-TRP2   Kb-7_dLN_TRP2.tsv   \n",
      "192            None    MGVLKAFSNYAEQFF  Kb-TRP2   Kb-7_dLN_TRP2.tsv   \n",
      "193            None      CASSFDSNERLFF  Kb-TRP2   Kb-7_dLN_TRP2.tsv   \n",
      "194            None    CASGPGQGARKRLFF  Kb-TRP2   Kb-7_dLN_TRP2.tsv   \n",
      "195            None    CASSQGDNSGNTLYF  Kb-TRP2   Kb-7_dLN_TRP2.tsv   \n",
      "196            None      CASSLTLNSDYTF  Kb-TRP2   Kb-7_dLN_TRP2.tsv   \n",
      "197            None     CASSLRGANERLFF  Kb-TRP2   Kb-7_dLN_TRP2.tsv   \n",
      "198            None  CASSPWGGQGGGNTLYF  Kb-m139         Kb-m139.tsv   \n",
      "199            None        CASSQGPDYTF  Kb-m139         Kb-m139.tsv   \n",
      "200            None      CASSFDRGDTQYF  Kb-m139         Kb-m139.tsv   \n",
      "201            None    CASSIPRVYNSPLYF  Kb-m139         Kb-m139.tsv   \n",
      "\n",
      "     Frequency V_alpha J_alpha      V_beta D_beta      J_beta  \n",
      "0     0.025641    None    None  TCRBV19-01   None  TCRBJ01-06  \n",
      "1     0.008547    None    None  TCRBV19-03   None  TCRBJ01-04  \n",
      "2     0.008547    None    None  TCRBV19-03   None  TCRBJ01-02  \n",
      "3     0.008547    None    None  TCRBV19-03   None  TCRBJ01-02  \n",
      "4     0.008547    None    None  TCRBV19-03   None  TCRBJ01-06  \n",
      "5     0.008547    None    None  TCRBV19-03   None  TCRBJ01-02  \n",
      "6     0.008547    None    None  TCRBV19-03   None  TCRBJ01-02  \n",
      "7     0.008547    None    None  TCRBV19-03   None  TCRBJ01-06  \n",
      "8     0.008547    None    None  TCRBV13-02   None  TCRBJ01-04  \n",
      "9     0.008547    None    None  TCRBV19-03   None  TCRBJ01-06  \n",
      "10    0.008547    None    None  TCRBV13-04   None  TCRBJ01-02  \n",
      "11    0.008547    None    None  TCRBV19-01   None  TCRBJ01-04  \n",
      "12    0.003436    None    None  TCRBV31-01   None  TCRBJ01-03  \n",
      "13    0.003436    None    None  TCRBV26-01   None  TCRBJ01-02  \n",
      "14    0.003436    None    None  TCRBV15-01   None  TCRBJ01-02  \n",
      "15    0.003436    None    None  TCRBV15-01   None  TCRBJ01-06  \n",
      "16    0.003436    None    None  TCRBV19-03   None  TCRBJ01-06  \n",
      "17    0.003436    None    None  TCRBV13-02   None  TCRBJ01-04  \n",
      "18    0.078689    None    None  TCRBV02-01   None  TCRBJ01-06  \n",
      "19    0.009836    None    None  TCRBV02-01   None  TCRBJ01-06  \n",
      "20    0.006557    None    None  TCRBV02-01   None  TCRBJ01-06  \n",
      "21    0.003279    None    None  TCRBV02-01   None  TCRBJ01-04  \n",
      "22    0.003279    None    None  TCRBV02-01   None  TCRBJ01-03  \n",
      "23    0.003279    None    None  TCRBV05-01   None  TCRBJ01-04  \n",
      "24    0.003279    None    None  TCRBV02-01   None  TCRBJ01-06  \n",
      "25    0.003279    None    None  TCRBV04-01   None  TCRBJ01-04  \n",
      "26    0.003279    None    None  TCRBV05-04   None  TCRBJ01-04  \n",
      "27    0.003279    None    None  TCRBV02-01   None  TCRBJ01-06  \n",
      "28    0.003279    None    None  TCRBV16-01   None  TCRBJ01-04  \n",
      "29    0.003279    None    None  TCRBV02-01   None  TCRBJ02-05  \n",
      "..         ...     ...     ...         ...    ...         ...  \n",
      "172   0.001206    None    None  TCRBV27-01   None  TCRBJ01-04  \n",
      "173   0.001206    None    None  TCRBV15-01   None  TCRBJ02-01  \n",
      "174   0.001206    None    None  TCRBV15-01   None  TCRBJ01-04  \n",
      "175   0.001206    None    None  TCRBV15-01   None  TCRBJ02-01  \n",
      "176   0.001206    None    None  TCRBV15-01   None  TCRBJ01-03  \n",
      "177   0.001206    None    None  TCRBV15-01   None  TCRBJ01-03  \n",
      "178   0.001206    None    None  TCRBV02-01   None  TCRBJ01-03  \n",
      "179   0.001206    None    None  TCRBV05-01   None  TCRBJ01-04  \n",
      "180   0.001206    None    None  TCRBV24-01   None  TCRBJ01-04  \n",
      "181   0.020619    None    None  TCRBV15-01   None  TCRBJ01-04  \n",
      "182   0.010309    None    None  TCRBV02-01   None  TCRBJ02-05  \n",
      "183   0.010309    None    None  TCRBV14-01   None  TCRBJ01-06  \n",
      "184   0.005155    None    None  TCRBV15-01   None  TCRBJ01-04  \n",
      "185   0.005155    None    None  TCRBV15-01   None  TCRBJ01-07  \n",
      "186   0.005155    None    None  TCRBV15-01   None  TCRBJ01-06  \n",
      "187   0.005155    None    None  TCRBV23-01   None  TCRBJ01-04  \n",
      "188   0.005155    None    None  TCRBV15-01   None  TCRBJ01-06  \n",
      "189   0.005155    None    None  TCRBV15-01   None  TCRBJ02-06  \n",
      "190   0.005155    None    None  TCRBV15-01   None  TCRBJ01-04  \n",
      "191   0.005155    None    None  TCRBV27-01   None  TCRBJ01-02  \n",
      "192   0.005155    None    None  TCRBV15-01   None  TCRBJ02-01  \n",
      "193   0.005155    None    None  TCRBV03-01   None  TCRBJ01-04  \n",
      "194   0.005155    None    None  TCRBV13-02   None  TCRBJ01-04  \n",
      "195   0.005155    None    None  TCRBV02-01   None  TCRBJ01-03  \n",
      "196   0.005155    None    None  TCRBV04-01   None  TCRBJ01-02  \n",
      "197   0.005155    None    None  TCRBV15-01   None  TCRBJ01-04  \n",
      "198   0.011494    None    None  TCRBV19-03   None  TCRBJ01-03  \n",
      "199   0.011494    None    None  TCRBV26-01   None  TCRBJ01-02  \n",
      "200   0.011494    None    None  TCRBV15-01   None  TCRBJ02-05  \n",
      "201   0.011494    None    None  TCRBV19-01   None  TCRBJ01-06  \n",
      "\n",
      "[202 rows x 10 columns]\n"
     ]
    }
   ],
   "source": [
    "DFs = DTCRU.Cluster_DFs\n",
    "print(DFs[0])"
   ]
  },
  {
   "cell_type": "markdown",
   "metadata": {},
   "source": [
    "We can also choose to save these results to a directory called Name of object + '_Results' by setting the write_to_sheets parameter to True. There, we can find the propritons of every sample in each cluster and csv files for every cluster detailing the sequence information with other information as well."
   ]
  },
  {
   "cell_type": "code",
   "execution_count": 4,
   "metadata": {},
   "outputs": [
    {
     "name": "stdout",
     "output_type": "stream",
     "text": [
      "Finding 30 nearest neighbors using minkowski metric and 'auto' algorithm\n",
      "Neighbors computed in 2.3625476360321045 seconds\n",
      "Jaccard graph constructed in 0.8622629642486572 seconds\n",
      "Wrote graph to binary file in 0.2122325897216797 seconds\n",
      "Running Louvain modularity optimization\n",
      "After 1 runs, maximum modularity is Q = 0.881628\n",
      "After 2 runs, maximum modularity is Q = 0.882635\n",
      "After 18 runs, maximum modularity is Q = 0.884541\n",
      "Louvain completed 38 runs in 5.93026876449585 seconds\n",
      "PhenoGraph complete in 9.385041236877441 seconds\n",
      "Clustering Done\n"
     ]
    }
   ],
   "source": [
    "DTCRU.Cluster(clustering_method='phenograph',write_to_sheets=True)"
   ]
  },
  {
   "cell_type": "markdown",
   "metadata": {},
   "source": [
    "We can also employ two other clustering algorithms (hierarchical clustering and DBSCAN). For these types of methods, we can either control the settings for the algorithm such as the threshold parameter (t), the criterion/linkage algorithm for heirarchical clustering, or we can allow the method to determine the optimal threshold parameter by maximizing the silhoutte score of the clustering solution. First, if we run hierarchial clustering letting the program determing the right threshold parameters:"
   ]
  },
  {
   "cell_type": "markdown",
   "metadata": {},
   "source": [
    "## Hierarchical Clustering"
   ]
  },
  {
   "cell_type": "code",
   "execution_count": 5,
   "metadata": {},
   "outputs": [
    {
     "name": "stdout",
     "output_type": "stream",
     "text": [
      "Clustering Done\n"
     ]
    }
   ],
   "source": [
    "DTCRU.Cluster(clustering_method='hierarchical')"
   ]
  },
  {
   "cell_type": "markdown",
   "metadata": {},
   "source": [
    "Or we can set the parameters ourselves."
   ]
  },
  {
   "cell_type": "code",
   "execution_count": 6,
   "metadata": {},
   "outputs": [
    {
     "name": "stdout",
     "output_type": "stream",
     "text": [
      "Clustering Done\n"
     ]
    }
   ],
   "source": [
    "DTCRU.Cluster(clustering_method='hierarchical',criterion='distance',t=1.0)"
   ]
  },
  {
   "cell_type": "markdown",
   "metadata": {},
   "source": [
    "## DBSCAN clustering"
   ]
  },
  {
   "cell_type": "markdown",
   "metadata": {},
   "source": [
    "And to use DBSCAN..."
   ]
  },
  {
   "cell_type": "code",
   "execution_count": 7,
   "metadata": {},
   "outputs": [
    {
     "name": "stdout",
     "output_type": "stream",
     "text": [
      "Clustering Done\n"
     ]
    }
   ],
   "source": [
    "DTCRU.Cluster(clustering_method='dbscan')"
   ]
  },
  {
   "cell_type": "markdown",
   "metadata": {},
   "source": [
    "In the case there are perhaps too many sequences to efficiently cluster the data quickly, one can downsample the data and then use a k-nearest neighbor algorithm to classify the rest of the sequences like so .Here, we will downsample 500 sequenes for clustering and then assign the rest via KNN."
   ]
  },
  {
   "cell_type": "code",
   "execution_count": 8,
   "metadata": {},
   "outputs": [
    {
     "name": "stdout",
     "output_type": "stream",
     "text": [
      "Finding 30 nearest neighbors using minkowski metric and 'auto' algorithm\n",
      "Neighbors computed in 0.009317874908447266 seconds\n",
      "Jaccard graph constructed in 0.04854011535644531 seconds\n",
      "Wrote graph to binary file in 0.006888866424560547 seconds\n",
      "Running Louvain modularity optimization\n",
      "After 1 runs, maximum modularity is Q = 0.381735\n",
      "Louvain completed 21 runs in 2.197479009628296 seconds\n",
      "PhenoGraph complete in 2.2696707248687744 seconds\n",
      "Clustering Done\n"
     ]
    }
   ],
   "source": [
    "DTCRU.Cluster(clustering_method='phenograph',sample=100)"
   ]
  },
  {
   "cell_type": "markdown",
   "metadata": {},
   "source": [
    "Finally, we can visualize the clustering results through a UMAP representation of the sequences."
   ]
  },
  {
   "cell_type": "markdown",
   "metadata": {},
   "source": [
    "## Clustering Visualization"
   ]
  },
  {
   "cell_type": "code",
   "execution_count": 9,
   "metadata": {},
   "outputs": [
    {
     "data": {
      "image/png": "[encoded data removed]",
      "text/plain": [
       "<Figure size 432x288 with 1 Axes>"
      ]
     },
     "metadata": {},
     "output_type": "display_data"
    }
   ],
   "source": [
    "DTCRU.UMAP_Plot(by_cluster=True)"
   ]
  },
  {
   "cell_type": "code",
   "execution_count": null,
   "metadata": {},
   "outputs": [],
   "source": []
  }
 ],
 "metadata": {
  "kernelspec": {
   "display_name": "Python 3",
   "language": "python",
   "name": "python3"
  },
  "language_info": {
   "codemirror_mode": {
    "name": "ipython",
    "version": 3
   },
   "file_extension": ".py",
   "mimetype": "text/x-python",
   "name": "python",
   "nbconvert_exporter": "python",
   "pygments_lexer": "ipython3",
   "version": "3.6.7"
  }
 },
 "nbformat": 4,
 "nbformat_minor": 2
}
