{
 "cells": [
  {
   "cell_type": "markdown",
   "metadata": {},
   "source": [
    "# Supervised Repertoire Classification"
   ]
  },
  {
   "cell_type": "markdown",
   "metadata": {},
   "source": [
    "While solving a sequence classification can be useful in the cases where the label applies to every sequence in a sample (such as in tetramer-sorted T-cells), there are times where the label may truly only apply to a set of sequences. For example, in the case where one may sequence tumor-infiltrating lymphocytes (TIL) and  there is a label at the repertoire/sample level such as which therapy the sample received. In this case, there may be a structural signature within a set of sequences that is predictive but not every single sequence has that signature. This is a case where we want to learn what is the structural signature buried in a set of sequenes and which sequences carry this signature."
   ]
  },
  {
   "cell_type": "markdown",
   "metadata": {},
   "source": [
    "To demo this utility of a repertoire/sample level classifier, we will first upload dat from the Rudqvist dataseet. In this dataset, 20 mice with implanted tumors were treated with 4 modes of therapy (Control, 9H10, RT, or Combo). We want to know whether the TCRrepertoire from their tumors is predictive of the therapy they received."
   ]
  },
  {
   "cell_type": "code",
   "execution_count": 1,
   "metadata": {},
   "outputs": [],
   "source": [
    "%%capture\n",
    "import sys\n",
    "sys.path.append('../../')\n",
    "from DeepTCR.DeepTCR import DeepTCR_WF\n",
    "\n",
    "# Instantiate training object\n",
    "DTCR_WF = DeepTCR_WF('Tutorial')\n",
    "\n",
    "#Load Data from directories\n",
    "DTCR_WF.Get_Data(directory='../../Data/Rudqvist',Load_Prev_Data=False,aggregate_by_aa=True,\n",
    "               aa_column_beta=1,count_column=2,v_beta_column=7,d_beta_column=14,j_beta_column=21)"
   ]
  },
  {
   "cell_type": "markdown",
   "metadata": {},
   "source": [
    "Following loading the data, we will split our data into test/train and then train the model."
   ]
  },
  {
   "cell_type": "code",
   "execution_count": 2,
   "metadata": {},
   "outputs": [
    {
     "name": "stdout",
     "output_type": "stream",
     "text": [
      "Training_Statistics: \n",
      " Epoch: 1/10000 Training loss: 1.40491 Validation loss: 1.36359 Testing loss: 1.42643 Training Accuracy: 0.25 Validation Accuracy: 0.25 Testing Accuracy: 0.25 Testing AUC: 0.16667\n",
      "Training_Statistics: \n",
      " Epoch: 2/10000 Training loss: 1.39528 Validation loss: 1.36200 Testing loss: 1.42000 Training Accuracy: 0.33333 Validation Accuracy: 0.5 Testing Accuracy: 0.25 Testing AUC: 0.16667\n",
      "Training_Statistics: \n",
      " Epoch: 3/10000 Training loss: 1.38670 Validation loss: 1.36104 Testing loss: 1.41415 Training Accuracy: 0.33333 Validation Accuracy: 0.5 Testing Accuracy: 0.25 Testing AUC: 0.16667\n",
      "Training_Statistics: \n",
      " Epoch: 4/10000 Training loss: 1.37863 Validation loss: 1.36027 Testing loss: 1.40858 Training Accuracy: 0.33333 Validation Accuracy: 0.5 Testing Accuracy: 0.25 Testing AUC: 0.16667\n",
      "Training_Statistics: \n",
      " Epoch: 5/10000 Training loss: 1.37099 Validation loss: 1.35959 Testing loss: 1.40396 Training Accuracy: 0.33333 Validation Accuracy: 0.5 Testing Accuracy: 0.5 Testing AUC: 0.083333\n",
      "Training_Statistics: \n",
      " Epoch: 6/10000 Training loss: 1.36385 Validation loss: 1.35903 Testing loss: 1.40023 Training Accuracy: 0.33333 Validation Accuracy: 0.5 Testing Accuracy: 0.5 Testing AUC: 0.16667\n",
      "Training_Statistics: \n",
      " Epoch: 7/10000 Training loss: 1.35723 Validation loss: 1.35853 Testing loss: 1.39656 Training Accuracy: 0.33333 Validation Accuracy: 0.5 Testing Accuracy: 0.5 Testing AUC: 0.16667\n",
      "Training_Statistics: \n",
      " Epoch: 8/10000 Training loss: 1.35078 Validation loss: 1.35819 Testing loss: 1.39270 Training Accuracy: 0.33333 Validation Accuracy: 0.25 Testing Accuracy: 0.5 Testing AUC: 0.16667\n",
      "Training_Statistics: \n",
      " Epoch: 9/10000 Training loss: 1.34438 Validation loss: 1.35802 Testing loss: 1.38937 Training Accuracy: 0.41667 Validation Accuracy: 0.25 Testing Accuracy: 0.5 Testing AUC: 0.16667\n",
      "Training_Statistics: \n",
      " Epoch: 10/10000 Training loss: 1.33817 Validation loss: 1.35778 Testing loss: 1.38624 Training Accuracy: 0.58333 Validation Accuracy: 0.25 Testing Accuracy: 0.5 Testing AUC: 0.16667\n",
      "Training_Statistics: \n",
      " Epoch: 11/10000 Training loss: 1.33198 Validation loss: 1.35754 Testing loss: 1.38361 Training Accuracy: 0.66667 Validation Accuracy: 0.25 Testing Accuracy: 0.25 Testing AUC: 0.16667\n",
      "Training_Statistics: \n",
      " Epoch: 12/10000 Training loss: 1.32586 Validation loss: 1.35731 Testing loss: 1.38103 Training Accuracy: 0.75 Validation Accuracy: 0.25 Testing Accuracy: 0.25 Testing AUC: 0.16667\n",
      "Training_Statistics: \n",
      " Epoch: 13/10000 Training loss: 1.31971 Validation loss: 1.35709 Testing loss: 1.37827 Training Accuracy: 0.75 Validation Accuracy: 0.25 Testing Accuracy: 0.25 Testing AUC: 0.16667\n",
      "Training_Statistics: \n",
      " Epoch: 14/10000 Training loss: 1.31358 Validation loss: 1.35689 Testing loss: 1.37540 Training Accuracy: 0.75 Validation Accuracy: 0.25 Testing Accuracy: 0.25 Testing AUC: 0.25\n",
      "Training_Statistics: \n",
      " Epoch: 15/10000 Training loss: 1.30738 Validation loss: 1.35679 Testing loss: 1.37238 Training Accuracy: 0.75 Validation Accuracy: 0.25 Testing Accuracy: 0.25 Testing AUC: 0.25\n",
      "Training_Statistics: \n",
      " Epoch: 16/10000 Training loss: 1.30109 Validation loss: 1.35666 Testing loss: 1.36920 Training Accuracy: 0.75 Validation Accuracy: 0.25 Testing Accuracy: 0.25 Testing AUC: 0.25\n",
      "Training_Statistics: \n",
      " Epoch: 17/10000 Training loss: 1.29482 Validation loss: 1.35641 Testing loss: 1.36597 Training Accuracy: 0.83333 Validation Accuracy: 0.25 Testing Accuracy: 0.25 Testing AUC: 0.33333\n",
      "Training_Statistics: \n",
      " Epoch: 18/10000 Training loss: 1.28847 Validation loss: 1.35603 Testing loss: 1.36290 Training Accuracy: 0.75 Validation Accuracy: 0.25 Testing Accuracy: 0.25 Testing AUC: 0.33333\n",
      "Training_Statistics: \n",
      " Epoch: 19/10000 Training loss: 1.28200 Validation loss: 1.35555 Testing loss: 1.35989 Training Accuracy: 0.75 Validation Accuracy: 0.25 Testing Accuracy: 0.25 Testing AUC: 0.41667\n",
      "Training_Statistics: \n",
      " Epoch: 20/10000 Training loss: 1.27552 Validation loss: 1.35503 Testing loss: 1.35686 Training Accuracy: 0.75 Validation Accuracy: 0.25 Testing Accuracy: 0.25 Testing AUC: 0.5\n",
      "Training_Statistics: \n",
      " Epoch: 21/10000 Training loss: 1.26896 Validation loss: 1.35444 Testing loss: 1.35367 Training Accuracy: 0.75 Validation Accuracy: 0.25 Testing Accuracy: 0.25 Testing AUC: 0.5\n",
      "Training_Statistics: \n",
      " Epoch: 22/10000 Training loss: 1.26240 Validation loss: 1.35374 Testing loss: 1.35030 Training Accuracy: 0.75 Validation Accuracy: 0.25 Testing Accuracy: 0.25 Testing AUC: 0.66667\n",
      "Training_Statistics: \n",
      " Epoch: 23/10000 Training loss: 1.25587 Validation loss: 1.35317 Testing loss: 1.34692 Training Accuracy: 0.75 Validation Accuracy: 0.25 Testing Accuracy: 0.25 Testing AUC: 0.66667\n",
      "Training_Statistics: \n",
      " Epoch: 24/10000 Training loss: 1.24938 Validation loss: 1.35263 Testing loss: 1.34391 Training Accuracy: 0.75 Validation Accuracy: 0.25 Testing Accuracy: 0.25 Testing AUC: 0.66667\n",
      "Training_Statistics: \n",
      " Epoch: 25/10000 Training loss: 1.24287 Validation loss: 1.35213 Testing loss: 1.34091 Training Accuracy: 0.75 Validation Accuracy: 0.25 Testing Accuracy: 0.25 Testing AUC: 0.66667\n",
      "Training_Statistics: \n",
      " Epoch: 26/10000 Training loss: 1.23638 Validation loss: 1.35169 Testing loss: 1.33809 Training Accuracy: 0.75 Validation Accuracy: 0.25 Testing Accuracy: 0.5 Testing AUC: 0.66667\n",
      "Training_Statistics: \n",
      " Epoch: 27/10000 Training loss: 1.22984 Validation loss: 1.35126 Testing loss: 1.33520 Training Accuracy: 0.75 Validation Accuracy: 0.25 Testing Accuracy: 0.5 Testing AUC: 0.66667\n",
      "Training_Statistics: \n",
      " Epoch: 28/10000 Training loss: 1.22324 Validation loss: 1.35089 Testing loss: 1.33211 Training Accuracy: 0.75 Validation Accuracy: 0.25 Testing Accuracy: 0.5 Testing AUC: 0.66667\n",
      "Training_Statistics: \n",
      " Epoch: 29/10000 Training loss: 1.21655 Validation loss: 1.35055 Testing loss: 1.32878 Training Accuracy: 0.75 Validation Accuracy: 0.25 Testing Accuracy: 0.5 Testing AUC: 0.66667\n",
      "Training_Statistics: \n",
      " Epoch: 30/10000 Training loss: 1.20981 Validation loss: 1.35021 Testing loss: 1.32523 Training Accuracy: 0.75 Validation Accuracy: 0.25 Testing Accuracy: 0.5 Testing AUC: 0.66667\n",
      "Training_Statistics: \n",
      " Epoch: 31/10000 Training loss: 1.20307 Validation loss: 1.34986 Testing loss: 1.32166 Training Accuracy: 0.75 Validation Accuracy: 0.25 Testing Accuracy: 0.5 Testing AUC: 0.66667\n",
      "Training_Statistics: \n",
      " Epoch: 32/10000 Training loss: 1.19629 Validation loss: 1.34946 Testing loss: 1.31849 Training Accuracy: 0.75 Validation Accuracy: 0.25 Testing Accuracy: 0.5 Testing AUC: 0.66667\n",
      "Training_Statistics: \n",
      " Epoch: 33/10000 Training loss: 1.18953 Validation loss: 1.34901 Testing loss: 1.31503 Training Accuracy: 0.75 Validation Accuracy: 0.25 Testing Accuracy: 0.5 Testing AUC: 0.66667\n",
      "Training_Statistics: \n",
      " Epoch: 34/10000 Training loss: 1.18269 Validation loss: 1.34852 Testing loss: 1.31151 Training Accuracy: 0.75 Validation Accuracy: 0.5 Testing Accuracy: 0.5 Testing AUC: 0.66667\n",
      "Training_Statistics: \n",
      " Epoch: 35/10000 Training loss: 1.17576 Validation loss: 1.34807 Testing loss: 1.30793 Training Accuracy: 0.83333 Validation Accuracy: 0.5 Testing Accuracy: 0.5 Testing AUC: 0.66667\n",
      "Training_Statistics: \n",
      " Epoch: 36/10000 Training loss: 1.16878 Validation loss: 1.34764 Testing loss: 1.30415 Training Accuracy: 0.83333 Validation Accuracy: 0.5 Testing Accuracy: 0.5 Testing AUC: 0.66667\n",
      "Training_Statistics: \n",
      " Epoch: 37/10000 Training loss: 1.16179 Validation loss: 1.34715 Testing loss: 1.30028 Training Accuracy: 0.83333 Validation Accuracy: 0.5 Testing Accuracy: 0.5 Testing AUC: 0.66667\n",
      "Training_Statistics: \n",
      " Epoch: 38/10000 Training loss: 1.15471 Validation loss: 1.34665 Testing loss: 1.29635 Training Accuracy: 0.83333 Validation Accuracy: 0.5 Testing Accuracy: 0.5 Testing AUC: 0.66667\n",
      "Training_Statistics: \n",
      " Epoch: 39/10000 Training loss: 1.14752 Validation loss: 1.34611 Testing loss: 1.29238 Training Accuracy: 0.83333 Validation Accuracy: 0.5 Testing Accuracy: 0.5 Testing AUC: 0.66667\n",
      "Training_Statistics: \n",
      " Epoch: 40/10000 Training loss: 1.14020 Validation loss: 1.34563 Testing loss: 1.28824 Training Accuracy: 0.83333 Validation Accuracy: 0.5 Testing Accuracy: 0.5 Testing AUC: 0.66667\n",
      "Training_Statistics: \n",
      " Epoch: 41/10000 Training loss: 1.13286 Validation loss: 1.34536 Testing loss: 1.28424 Training Accuracy: 0.83333 Validation Accuracy: 0.5 Testing Accuracy: 0.5 Testing AUC: 0.66667\n",
      "Training_Statistics: \n",
      " Epoch: 42/10000 Training loss: 1.12555 Validation loss: 1.34518 Testing loss: 1.28003 Training Accuracy: 0.83333 Validation Accuracy: 0.5 Testing Accuracy: 0.5 Testing AUC: 0.66667\n",
      "Training_Statistics: \n",
      " Epoch: 43/10000 Training loss: 1.11812 Validation loss: 1.34508 Testing loss: 1.27583 Training Accuracy: 0.83333 Validation Accuracy: 0.5 Testing Accuracy: 0.5 Testing AUC: 0.66667\n",
      "Training_Statistics: \n",
      " Epoch: 44/10000 Training loss: 1.11062 Validation loss: 1.34503 Testing loss: 1.27161 Training Accuracy: 0.83333 Validation Accuracy: 0.5 Testing Accuracy: 0.5 Testing AUC: 0.66667\n"
     ]
    },
    {
     "name": "stdout",
     "output_type": "stream",
     "text": [
      "Training_Statistics: \n",
      " Epoch: 45/10000 Training loss: 1.10307 Validation loss: 1.34494 Testing loss: 1.26718 Training Accuracy: 0.83333 Validation Accuracy: 0.5 Testing Accuracy: 0.5 Testing AUC: 0.66667\n",
      "Training_Statistics: \n",
      " Epoch: 46/10000 Training loss: 1.09544 Validation loss: 1.34473 Testing loss: 1.26289 Training Accuracy: 0.83333 Validation Accuracy: 0.5 Testing Accuracy: 0.5 Testing AUC: 0.66667\n",
      "Training_Statistics: \n",
      " Epoch: 47/10000 Training loss: 1.08770 Validation loss: 1.34448 Testing loss: 1.25840 Training Accuracy: 0.83333 Validation Accuracy: 0.5 Testing Accuracy: 0.5 Testing AUC: 0.66667\n",
      "Training_Statistics: \n",
      " Epoch: 48/10000 Training loss: 1.07992 Validation loss: 1.34416 Testing loss: 1.25421 Training Accuracy: 0.83333 Validation Accuracy: 0.5 Testing Accuracy: 0.5 Testing AUC: 0.66667\n",
      "Done Training\n"
     ]
    }
   ],
   "source": [
    "DTCR_WF.Get_Train_Valid_Test(test_size=0.25)\n",
    "DTCR_WF.Train()"
   ]
  },
  {
   "cell_type": "markdown",
   "metadata": {},
   "source": [
    "Following training, we can view the performance through plotting the ROC curves."
   ]
  },
  {
   "cell_type": "code",
   "execution_count": 3,
   "metadata": {},
   "outputs": [
    {
     "data": {
      "image/png": "[encoded data removed]",
      "text/plain": [
       "<Figure size 432x288 with 1 Axes>"
      ]
     },
     "metadata": {},
     "output_type": "display_data"
    }
   ],
   "source": [
    "DTCR_WF.AUC_Curve()"
   ]
  },
  {
   "cell_type": "markdown",
   "metadata": {},
   "source": [
    "You might notice that given how small this dataset is, doing one training split does not give us a good assesment for how predictive the TCR signature may be. In this case, we would want to use a K-fold cross validation to train on 19 of the samples and test on 1 and iterate until we've covered the entire cohort. When calling the K-fold cross validation command, one can provide the number of folds or if none is provided, it assumes a leave-one-out strategy."
   ]
  },
  {
   "cell_type": "code",
   "execution_count": 4,
   "metadata": {},
   "outputs": [],
   "source": [
    "%%capture\n",
    "DTCR_WF.K_Fold_CrossVal()"
   ]
  },
  {
   "cell_type": "markdown",
   "metadata": {},
   "source": [
    "We can then assess the performance once again through plotting the ROC curves."
   ]
  },
  {
   "cell_type": "code",
   "execution_count": 5,
   "metadata": {},
   "outputs": [
    {
     "data": {
      "image/png": "[encoded data removed]",
      "text/plain": [
       "<Figure size 432x288 with 1 Axes>"
      ]
     },
     "metadata": {},
     "output_type": "display_data"
    }
   ],
   "source": [
    "DTCR_WF.AUC_Curve()"
   ]
  },
  {
   "cell_type": "markdown",
   "metadata": {},
   "source": [
    "Once our algorithm has been trained, we may want to see which sequences are the most strongly predicted for each label. To do this we will run the following command. The output of the command is a dictionary of dataframes within the object we can view. Additionally, these dataframes can be found in the results folder underneath the subdirectory 'Rep_Sequences'."
   ]
  },
  {
   "cell_type": "code",
   "execution_count": 6,
   "metadata": {},
   "outputs": [],
   "source": [
    "DTCR_WF.Representative_Sequences()"
   ]
  },
  {
   "cell_type": "code",
   "execution_count": 7,
   "metadata": {},
   "outputs": [
    {
     "name": "stdout",
     "output_type": "stream",
     "text": [
      "      alpha            beta      v_beta      d_beta      j_beta v_alpha  \\\n",
      "13463  None    CESGAWGYEQYF  TCRBV13-02  unresolved  TCRBJ02-07    None   \n",
      "14191  None      CASGDWEQYF  TCRBV13-02  unresolved  TCRBJ02-07    None   \n",
      "13599  None       CASGYEQYF  TCRBV13-02  unresolved  TCRBJ02-07    None   \n",
      "13907  None     CASGDAYEQYF  TCRBV13-02  unresolved  TCRBJ02-07    None   \n",
      "12114  None    CASGAWGYEQYF  TCRBV13-02  unresolved  TCRBJ02-07    None   \n",
      "12367  None    CASSEGAYEQYF  TCRBV13-01  unresolved  TCRBJ02-07    None   \n",
      "14919  None    CASGAWGYEQYF  TCRBV13-02  unresolved  TCRBJ02-07    None   \n",
      "11239  None    CASGAWGYEQYF  TCRBV13-02  unresolved  TCRBJ02-07    None   \n",
      "14138  None  CASGDWRSSYEQYF  TCRBV13-02  unresolved  TCRBJ02-07    None   \n",
      "13159  None    FASGAWGYEQYF  TCRBV13-02  unresolved  TCRBJ02-07    None   \n",
      "\n",
      "      j_alpha    Class         Sample      Freq  Counts          9H10  \\\n",
      "13463    None  Control  CONTROL-5.tsv  0.000197       1  5.883897e-10   \n",
      "14191    None  Control  CONTROL-5.tsv  0.000197       1  8.769161e-09   \n",
      "13599    None  Control  CONTROL-5.tsv  0.000197       1  4.591853e-09   \n",
      "13907    None  Control  CONTROL-5.tsv  0.000197       1  6.120494e-09   \n",
      "12114    None  Control  CONTROL-5.tsv  0.172929     879  1.992406e-10   \n",
      "12367    None  Control  CONTROL-5.tsv  0.000393       2  2.120697e-08   \n",
      "14919    None  Control  CONTROL-2.tsv  0.001770       8  8.477564e-10   \n",
      "11239    None  Control  CONTROL-4.tsv  0.015916      47  5.381211e-10   \n",
      "14138    None  Control  CONTROL-5.tsv  0.000197       1  1.943769e-08   \n",
      "13159    None  Control  CONTROL-5.tsv  0.000197       1  1.464373e-09   \n",
      "\n",
      "              Combo  Control            RT  \n",
      "13463  2.154184e-12      1.0  3.415201e-09  \n",
      "14191  1.935496e-12      1.0  2.542905e-08  \n",
      "13599  2.457899e-12      1.0  3.916520e-08  \n",
      "13907  5.138091e-13      1.0  2.740212e-08  \n",
      "12114  3.694239e-14      1.0  1.308573e-09  \n",
      "12367  4.529817e-14      1.0  4.295067e-13  \n",
      "14919  2.123641e-15      1.0  2.850206e-12  \n",
      "11239  1.702033e-13      1.0  1.086505e-10  \n",
      "14138  1.716036e-13      1.0  5.825461e-10  \n",
      "13159  3.900163e-13      1.0  1.173606e-09  \n"
     ]
    }
   ],
   "source": [
    "print(DTCR_WF.Rep_Seq['Control'])"
   ]
  },
  {
   "cell_type": "markdown",
   "metadata": {},
   "source": [
    "Furthermore, we may want to know which learned motifs are associated with a given label. To do this, we can run the following command with the label we want to know the predictive motifs for."
   ]
  },
  {
   "cell_type": "code",
   "execution_count": 9,
   "metadata": {},
   "outputs": [
    {
     "name": "stdout",
     "output_type": "stream",
     "text": [
      "Motif Identification Completed\n"
     ]
    }
   ],
   "source": [
    "DTCR_WF.Motif_Identification('Control')"
   ]
  },
  {
   "cell_type": "markdown",
   "metadata": {},
   "source": [
    "The motifs can then be found in fasta files in the results folder underneath (label)(alpha/beta)Motifs. These fasta fiels can then be used with \"https://weblogo.berkeley.edu/logo.cgi\" for motif visualization."
   ]
  },
  {
   "cell_type": "code",
   "execution_count": null,
   "metadata": {},
   "outputs": [],
   "source": []
  }
 ],
 "metadata": {
  "kernelspec": {
   "display_name": "Python 3",
   "language": "python",
   "name": "python3"
  },
  "language_info": {
   "codemirror_mode": {
    "name": "ipython",
    "version": 3
   },
   "file_extension": ".py",
   "mimetype": "text/x-python",
   "name": "python",
   "nbconvert_exporter": "python",
   "pygments_lexer": "ipython3",
   "version": "3.6.7"
  }
 },
 "nbformat": 4,
 "nbformat_minor": 2
}
