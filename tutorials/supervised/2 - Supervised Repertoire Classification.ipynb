{
 "cells": [
  {
   "cell_type": "markdown",
   "metadata": {},
   "source": [
    "# Supervised Repertoire Classification"
   ]
  },
  {
   "cell_type": "markdown",
   "metadata": {},
   "source": [
    "While solving a sequence classification can be useful in the cases where the label applies to every sequence in a sample (such as in tetramer-sorted T-cells), there are times where the label may truly only apply to a set of sequences. For example, in the case where one may sequence tumor-infiltrating lymphocytes (TIL) and  there is a label at the repertoire/sample level such as which therapy the sample received. In this case, there may be a structural signature within a set of sequences that is predictive but not every single sequence has that signature. This is a case where we want to learn what is the structural signature buried in a set of sequenes and which sequences carry this signature."
   ]
  },
  {
   "cell_type": "markdown",
   "metadata": {},
   "source": [
    "To demo this utility of a repertoire/sample level classifier, we will first upload dat from the Rudqvist dataseet. In this dataset, 20 mice with implanted tumors were treated with 4 modes of therapy (Control, 9H10, RT, or Combo). We want to know whether the TCRrepertoire from their tumors is predictive of the therapy they received."
   ]
  },
  {
   "cell_type": "code",
   "execution_count": 1,
   "metadata": {},
   "outputs": [
    {
     "name": "stdout",
     "output_type": "stream",
     "text": [
      "Loading Data...\n",
      "Embedding Sequences...\n",
      "Data Loaded\n"
     ]
    }
   ],
   "source": [
    "import sys\n",
    "sys.path.append('../../')\n",
    "from DeepTCR.DeepTCR import DeepTCR_WF\n",
    "\n",
    "# Instantiate training object\n",
    "DTCR_WF = DeepTCR_WF('Tutorial')\n",
    "\n",
    "#Load Data from directories\n",
    "DTCR_WF.Get_Data(directory='../../Data/Rudqvist',Load_Prev_Data=False,aggregate_by_aa=True,\n",
    "               aa_column_beta=1,count_column=2,v_beta_column=7,d_beta_column=14,j_beta_column=21)"
   ]
  },
  {
   "cell_type": "markdown",
   "metadata": {},
   "source": [
    "Following loading the data, we will split our data into test/train and then train the model."
   ]
  },
  {
   "cell_type": "code",
   "execution_count": 2,
   "metadata": {},
   "outputs": [
    {
     "name": "stderr",
     "output_type": "stream",
     "text": [
      "WARNING: Logging before flag parsing goes to stderr.\n",
      "W1004 19:59:57.509597 140122212878144 deprecation_wrapper.py:119] From ../../DeepTCR/functions/Layers.py:130: The name tf.placeholder is deprecated. Please use tf.compat.v1.placeholder instead.\n",
      "\n",
      "W1004 19:59:57.519880 140122212878144 deprecation_wrapper.py:119] From ../../DeepTCR/functions/Layers.py:140: The name tf.placeholder_with_default is deprecated. Please use tf.compat.v1.placeholder_with_default instead.\n",
      "\n",
      "W1004 19:59:57.523452 140122212878144 deprecation_wrapper.py:119] From ../../DeepTCR/functions/Layers.py:141: The name tf.sparse.placeholder is deprecated. Please use tf.compat.v1.sparse.placeholder instead.\n",
      "\n",
      "W1004 19:59:57.532828 140122212878144 deprecation_wrapper.py:119] From ../../DeepTCR/functions/Layers.py:12: The name tf.get_variable is deprecated. Please use tf.compat.v1.get_variable instead.\n",
      "\n",
      "W1004 19:59:57.535385 140122212878144 deprecation.py:506] From /usr/local/lib/python3.6/dist-packages/tensorflow/python/ops/init_ops.py:1251: calling VarianceScaling.__init__ (from tensorflow.python.ops.init_ops) with dtype is deprecated and will be removed in a future version.\n",
      "Instructions for updating:\n",
      "Call initializer instance with the dtype argument instead of passing it to the constructor\n",
      "W1004 19:59:57.576785 140122212878144 deprecation_wrapper.py:119] From ../../DeepTCR/functions/Layers.py:156: The name tf.variable_scope is deprecated. Please use tf.compat.v1.variable_scope instead.\n",
      "\n",
      "W1004 19:59:57.605746 140122212878144 deprecation.py:323] From ../../DeepTCR/functions/Layers.py:98: conv2d (from tensorflow.python.layers.convolutional) is deprecated and will be removed in a future version.\n",
      "Instructions for updating:\n",
      "Use `tf.keras.layers.Conv2D` instead.\n",
      "W1004 19:59:57.770727 140122212878144 deprecation.py:323] From ../../DeepTCR/functions/Layers.py:99: flatten (from tensorflow.python.layers.core) is deprecated and will be removed in a future version.\n",
      "Instructions for updating:\n",
      "Use keras.layers.flatten instead.\n",
      "W1004 19:59:57.922347 140122212878144 deprecation.py:323] From ../../DeepTCR/functions/Layers.py:102: dropout (from tensorflow.python.layers.core) is deprecated and will be removed in a future version.\n",
      "Instructions for updating:\n",
      "Use keras.layers.dropout instead.\n",
      "W1004 19:59:58.423840 140122212878144 lazy_loader.py:50] \n",
      "The TensorFlow contrib module will not be included in TensorFlow 2.0.\n",
      "For more information, please see:\n",
      "  * https://github.com/tensorflow/community/blob/master/rfcs/20180907-contrib-sunset.md\n",
      "  * https://github.com/tensorflow/addons\n",
      "  * https://github.com/tensorflow/io (for I/O related ops)\n",
      "If you depend on functionality not listed there, please file an issue.\n",
      "\n",
      "W1004 19:59:58.425430 140122212878144 deprecation.py:323] From ../../DeepTCR/functions/MIL.py:50: dense (from tensorflow.python.layers.core) is deprecated and will be removed in a future version.\n",
      "Instructions for updating:\n",
      "Use keras.layers.dense instead.\n",
      "W1004 19:59:59.514671 140122212878144 deprecation_wrapper.py:119] From ../../DeepTCR/DeepTCR.py:3321: The name tf.trainable_variables is deprecated. Please use tf.compat.v1.trainable_variables instead.\n",
      "\n",
      "W1004 19:59:59.516173 140122212878144 deprecation_wrapper.py:119] From ../../DeepTCR/DeepTCR.py:3322: The name tf.losses.get_regularization_loss is deprecated. Please use tf.compat.v1.losses.get_regularization_loss instead.\n",
      "\n",
      "W1004 19:59:59.518539 140122212878144 deprecation_wrapper.py:119] From ../../DeepTCR/DeepTCR.py:3326: The name tf.train.AdamOptimizer is deprecated. Please use tf.compat.v1.train.AdamOptimizer instead.\n",
      "\n",
      "W1004 20:00:00.487873 140122212878144 deprecation.py:323] From /usr/local/lib/python3.6/dist-packages/tensorflow/python/ops/math_grad.py:1205: add_dispatch_support.<locals>.wrapper (from tensorflow.python.ops.array_ops) is deprecated and will be removed in a future version.\n",
      "Instructions for updating:\n",
      "Use tf.where in 2.0, which has the same broadcast rule as np.where\n",
      "W1004 20:00:04.187888 140122212878144 deprecation_wrapper.py:119] From ../../DeepTCR/DeepTCR.py:3342: The name tf.train.Saver is deprecated. Please use tf.compat.v1.train.Saver instead.\n",
      "\n"
     ]
    },
    {
     "name": "stdout",
     "output_type": "stream",
     "text": [
      "Training_Statistics: \n",
      " Epoch: 0 Training loss: 1.39094 Validation loss: 1.38576 Testing loss: 1.37400 Training Accuracy: 0.25 Validation Accuracy: 0.25 Testing Accuracy: 0.5 Testing AUC: 0.75\n",
      "Training_Statistics: \n",
      " Epoch: 1 Training loss: 1.37786 Validation loss: 1.38356 Testing loss: 1.36689 Training Accuracy: 0.25 Validation Accuracy: 0.25 Testing Accuracy: 0.5 Testing AUC: 0.91667\n",
      "Training_Statistics: \n",
      " Epoch: 2 Training loss: 1.36791 Validation loss: 1.38254 Testing loss: 1.36054 Training Accuracy: 0.5 Validation Accuracy: 0.5 Testing Accuracy: 0.5 Testing AUC: 0.91667\n",
      "Training_Statistics: \n",
      " Epoch: 3 Training loss: 1.35890 Validation loss: 1.38136 Testing loss: 1.35342 Training Accuracy: 0.5 Validation Accuracy: 0.5 Testing Accuracy: 0.5 Testing AUC: 0.91667\n",
      "Training_Statistics: \n",
      " Epoch: 4 Training loss: 1.34975 Validation loss: 1.38031 Testing loss: 1.34597 Training Accuracy: 0.58333 Validation Accuracy: 0.25 Testing Accuracy: 0.75 Testing AUC: 0.91667\n",
      "Training_Statistics: \n",
      " Epoch: 5 Training loss: 1.34075 Validation loss: 1.37959 Testing loss: 1.33827 Training Accuracy: 0.66667 Validation Accuracy: 0.5 Testing Accuracy: 0.75 Testing AUC: 0.83333\n",
      "Training_Statistics: \n",
      " Epoch: 6 Training loss: 1.33198 Validation loss: 1.37912 Testing loss: 1.33045 Training Accuracy: 0.66667 Validation Accuracy: 0.5 Testing Accuracy: 0.75 Testing AUC: 0.83333\n",
      "Training_Statistics: \n",
      " Epoch: 7 Training loss: 1.32324 Validation loss: 1.37880 Testing loss: 1.32243 Training Accuracy: 0.66667 Validation Accuracy: 0.5 Testing Accuracy: 0.75 Testing AUC: 0.83333\n",
      "Training_Statistics: \n",
      " Epoch: 8 Training loss: 1.31415 Validation loss: 1.37825 Testing loss: 1.31407 Training Accuracy: 0.66667 Validation Accuracy: 0.5 Testing Accuracy: 0.75 Testing AUC: 0.91667\n",
      "Training_Statistics: \n",
      " Epoch: 9 Training loss: 1.30456 Validation loss: 1.37741 Testing loss: 1.30509 Training Accuracy: 0.66667 Validation Accuracy: 0.5 Testing Accuracy: 0.75 Testing AUC: 0.91667\n",
      "Training_Statistics: \n",
      " Epoch: 10 Training loss: 1.29444 Validation loss: 1.37639 Testing loss: 1.29570 Training Accuracy: 0.66667 Validation Accuracy: 0.5 Testing Accuracy: 0.75 Testing AUC: 0.91667\n",
      "Training_Statistics: \n",
      " Epoch: 11 Training loss: 1.28377 Validation loss: 1.37523 Testing loss: 1.28556 Training Accuracy: 0.66667 Validation Accuracy: 0.5 Testing Accuracy: 0.75 Testing AUC: 0.91667\n",
      "Training_Statistics: \n",
      " Epoch: 12 Training loss: 1.27254 Validation loss: 1.37390 Testing loss: 1.27463 Training Accuracy: 0.66667 Validation Accuracy: 0.5 Testing Accuracy: 0.75 Testing AUC: 0.91667\n",
      "Training_Statistics: \n",
      " Epoch: 13 Training loss: 1.26080 Validation loss: 1.37247 Testing loss: 1.26306 Training Accuracy: 0.66667 Validation Accuracy: 0.5 Testing Accuracy: 0.75 Testing AUC: 0.91667\n",
      "Training_Statistics: \n",
      " Epoch: 14 Training loss: 1.24864 Validation loss: 1.37105 Testing loss: 1.25051 Training Accuracy: 0.66667 Validation Accuracy: 0.5 Testing Accuracy: 0.75 Testing AUC: 0.91667\n",
      "Training_Statistics: \n",
      " Epoch: 15 Training loss: 1.23608 Validation loss: 1.36962 Testing loss: 1.23703 Training Accuracy: 0.66667 Validation Accuracy: 0.5 Testing Accuracy: 0.75 Testing AUC: 0.91667\n",
      "Training_Statistics: \n",
      " Epoch: 16 Training loss: 1.22325 Validation loss: 1.36818 Testing loss: 1.22268 Training Accuracy: 0.66667 Validation Accuracy: 0.5 Testing Accuracy: 0.75 Testing AUC: 0.91667\n",
      "Training_Statistics: \n",
      " Epoch: 17 Training loss: 1.21018 Validation loss: 1.36675 Testing loss: 1.20776 Training Accuracy: 0.66667 Validation Accuracy: 0.5 Testing Accuracy: 0.75 Testing AUC: 0.91667\n",
      "Training_Statistics: \n",
      " Epoch: 18 Training loss: 1.19703 Validation loss: 1.36530 Testing loss: 1.19227 Training Accuracy: 0.66667 Validation Accuracy: 0.5 Testing Accuracy: 0.75 Testing AUC: 0.91667\n",
      "Training_Statistics: \n",
      " Epoch: 19 Training loss: 1.18387 Validation loss: 1.36383 Testing loss: 1.17629 Training Accuracy: 0.75 Validation Accuracy: 0.5 Testing Accuracy: 0.75 Testing AUC: 0.91667\n",
      "Training_Statistics: \n",
      " Epoch: 20 Training loss: 1.17076 Validation loss: 1.36235 Testing loss: 1.16040 Training Accuracy: 0.75 Validation Accuracy: 0.5 Testing Accuracy: 0.75 Testing AUC: 0.91667\n",
      "Training_Statistics: \n",
      " Epoch: 21 Training loss: 1.15781 Validation loss: 1.36077 Testing loss: 1.14468 Training Accuracy: 0.75 Validation Accuracy: 0.5 Testing Accuracy: 0.75 Testing AUC: 0.91667\n",
      "Training_Statistics: \n",
      " Epoch: 22 Training loss: 1.14513 Validation loss: 1.35898 Testing loss: 1.12914 Training Accuracy: 0.75 Validation Accuracy: 0.5 Testing Accuracy: 0.75 Testing AUC: 0.91667\n",
      "Training_Statistics: \n",
      " Epoch: 23 Training loss: 1.13276 Validation loss: 1.35685 Testing loss: 1.11344 Training Accuracy: 0.66667 Validation Accuracy: 0.5 Testing Accuracy: 0.75 Testing AUC: 0.91667\n",
      "Training_Statistics: \n",
      " Epoch: 24 Training loss: 1.12071 Validation loss: 1.35450 Testing loss: 1.09804 Training Accuracy: 0.66667 Validation Accuracy: 0.5 Testing Accuracy: 0.75 Testing AUC: 0.91667\n",
      "Training_Statistics: \n",
      " Epoch: 25 Training loss: 1.10910 Validation loss: 1.35208 Testing loss: 1.08338 Training Accuracy: 0.66667 Validation Accuracy: 0.5 Testing Accuracy: 0.75 Testing AUC: 0.91667\n",
      "Training_Statistics: \n",
      " Epoch: 26 Training loss: 1.09794 Validation loss: 1.34970 Testing loss: 1.06919 Training Accuracy: 0.66667 Validation Accuracy: 0.5 Testing Accuracy: 0.75 Testing AUC: 0.91667\n",
      "Training_Statistics: \n",
      " Epoch: 27 Training loss: 1.08716 Validation loss: 1.34725 Testing loss: 1.05590 Training Accuracy: 0.66667 Validation Accuracy: 0.5 Testing Accuracy: 0.75 Testing AUC: 0.91667\n",
      "Training_Statistics: \n",
      " Epoch: 28 Training loss: 1.07675 Validation loss: 1.34423 Testing loss: 1.04389 Training Accuracy: 0.75 Validation Accuracy: 0.5 Testing Accuracy: 0.75 Testing AUC: 0.91667\n",
      "Done Training\n"
     ]
    }
   ],
   "source": [
    "DTCR_WF.Get_Train_Valid_Test(test_size=0.25)\n",
    "DTCR_WF.Train()"
   ]
  },
  {
   "cell_type": "markdown",
   "metadata": {},
   "source": [
    "Following training, we can view the performance through plotting the ROC curves."
   ]
  },
  {
   "cell_type": "code",
   "execution_count": 3,
   "metadata": {},
   "outputs": [
    {
     "data": {
      "image/png": "[encoded data removed]",
      "text/plain": [
       "<Figure size 432x288 with 1 Axes>"
      ]
     },
     "metadata": {
      "needs_background": "light"
     },
     "output_type": "display_data"
    }
   ],
   "source": [
    "DTCR_WF.AUC_Curve()"
   ]
  },
  {
   "cell_type": "markdown",
   "metadata": {},
   "source": [
    "You might notice that given how small this dataset is, doing one training split does not give us a good assesment for how predictive the TCR signature may be. In this case, we would want to use a K-fold cross validation to train on 19 of the samples and test on 1 and iterate until we've covered the entire cohort. When calling the K-fold cross validation command, one can provide the number of folds or if none is provided, it assumes a leave-one-out strategy. Here, we will also utilize an option for training where we apply a hinge loss to the training data where the per-sample loss is only used to penalize the model if it is above a certain threshold. This prevents over-fitting of the neural network. The idea here is that once a sample has been called correctly, there is no additional benefit to get it 'more right'. This is a particularly good training strategy when we are working with small datasets such as this one. We will also set the combine_train_valid parameter to True to combine what was originally the train and validation sets into one training set while leaving the test set for assessing performance. Otherwise, this method normally applies an early stopping criterion on the validation set. Since we have combined our train and validation sets together, we need to apply a stopping criterion on this training data. We will set the minimum loss before stopping training on the training data to 0.1. This means that when the average training loss hits 0.1, the neural network will stop training."
   ]
  },
  {
   "cell_type": "code",
   "execution_count": null,
   "metadata": {},
   "outputs": [],
   "source": [
    "%%capture\n",
    "DTCR_WF.K_Fold_CrossVal(combine_train_valid=True, hinge_loss_t = 0.1,train_loss_min = 0.1)"
   ]
  },
  {
   "cell_type": "markdown",
   "metadata": {},
   "source": [
    "We can then assess the performance once again through plotting the ROC curves."
   ]
  },
  {
   "cell_type": "code",
   "execution_count": 5,
   "metadata": {},
   "outputs": [
    {
     "data": {
      "image/png": "[encoded data removed]",
      "text/plain": [
       "<Figure size 432x288 with 1 Axes>"
      ]
     },
     "metadata": {
      "needs_background": "light"
     },
     "output_type": "display_data"
    }
   ],
   "source": [
    "DTCR_WF.AUC_Curve()"
   ]
  },
  {
   "cell_type": "markdown",
   "metadata": {},
   "source": [
    "We can also train our model in a Monte-Carlo fashion where we perform N number of monte-carlo simulation, randomly sampling train/test sets to train our model and assess predictive signature in our data in a more granular way. Here, we will also introduce other hyper-parameters we can modify including changing the size of the network. The size of the network parameter chooses the number of nodes for the 3 convolutional layers. Here, we will switch the sie of the network to 'small' which use 12,32,64 nodes respectively for the 3 conv layers. We will also leave out 4 samples for testing while we use 16 for training. Finally, we will also train our model with 64 concepts, a hyper-parameter of the multiple-instance learning (MIL) algorithm that we can change depending on the level of heterogeneity we expect in our data."
   ]
  },
  {
   "cell_type": "code",
   "execution_count": null,
   "metadata": {},
   "outputs": [],
   "source": [
    "%%capture\n",
    "folds = 25\n",
    "LOO = 4\n",
    "epochs_min = 10\n",
    "size_of_net = 'small'\n",
    "num_concepts=64\n",
    "hinge_loss_t = 0.1\n",
    "train_loss_min=0.1\n",
    "\n",
    "DTCR_WF.Monte_Carlo_CrossVal(folds=folds,LOO=LOO,epochs_min=epochs_min,num_concepts=num_concepts,size_of_net=size_of_net,\n",
    "                             train_loss_min=train_loss_min,hinge_loss_t=hinge_loss_t,combine_train_valid=True)"
   ]
  },
  {
   "cell_type": "markdown",
   "metadata": {},
   "source": [
    "Once again, we can look at the performance via a ROC curve."
   ]
  },
  {
   "cell_type": "code",
   "execution_count": null,
   "metadata": {},
   "outputs": [],
   "source": [
    "DTCR_WF.AUC_Curve()"
   ]
  },
  {
   "cell_type": "markdown",
   "metadata": {},
   "source": [
    "Once our algorithm has been trained, we may want to see which sequences are the most strongly predicted for each label. To do this we will run the following command. The output of the command is a dictionary of dataframes within the object we can view. Additionally, these dataframes can be found in the results folder underneath the subdirectory 'Rep_Sequences'."
   ]
  },
  {
   "cell_type": "code",
   "execution_count": 6,
   "metadata": {},
   "outputs": [],
   "source": [
    "DTCR_WF.Representative_Sequences()"
   ]
  },
  {
   "cell_type": "code",
   "execution_count": 7,
   "metadata": {},
   "outputs": [
    {
     "name": "stdout",
     "output_type": "stream",
     "text": [
      "      alpha              beta      v_beta      d_beta      j_beta v_alpha  \\\n",
      "15157  None      CASSLDRYEQYF  TCRBV14-01  TCBDD01-01  TCRBJ02-07    None   \n",
      "14596  None      CASGLGEYEQYF  TCRBV13-02  TCBDD01-01  TCRBJ02-07    None   \n",
      "15151  None  CASSKGDRGSNERLFF  TCRBV05-01  TCBDD01-01  TCRBJ01-04    None   \n",
      "15341  None    CASSLTGRDTEVFF  TCRBV03-01  TCBDD01-01  TCRBJ01-01    None   \n",
      "15230  None     CASSKAANSDYTF  TCRBV13-03  unresolved  TCRBJ01-02    None   \n",
      "15426  None     CASSLGTNSDYTF  TCRBV03-01  unresolved  TCRBJ01-02    None   \n",
      "15172  None    CASSLARDDERLFF  TCRBV15-01  TCBDD01-01  TCRBJ01-04    None   \n",
      "14553  None     CASRGGANSDYTF  TCRBV19-01  TCBDD01-01  TCRBJ01-02    None   \n",
      "14430  None     CAWSLDANSDYTF  TCRBV31-01  unresolved  TCRBJ01-02    None   \n",
      "15315  None   CASSLWDRSQNTLYF  TCRBV29-01  TCBDD01-01  TCRBJ02-04    None   \n",
      "\n",
      "      j_alpha    Class         Sample      Freq  Counts           HLA  \\\n",
      "15157    None  Control  CONTROL-5.tsv  0.000197       1  [N, o, n, e]   \n",
      "14596    None  Control  CONTROL-5.tsv  0.000197       1  [N, o, n, e]   \n",
      "15151    None  Control  CONTROL-5.tsv  0.000197       1  [N, o, n, e]   \n",
      "15341    None  Control  CONTROL-5.tsv  0.000197       1  [N, o, n, e]   \n",
      "15230    None  Control  CONTROL-5.tsv  0.000197       1  [N, o, n, e]   \n",
      "15426    None  Control  CONTROL-5.tsv  0.000197       1  [N, o, n, e]   \n",
      "15172    None  Control  CONTROL-5.tsv  0.000197       1  [N, o, n, e]   \n",
      "14553    None  Control  CONTROL-5.tsv  0.000197       1  [N, o, n, e]   \n",
      "14430    None  Control  CONTROL-5.tsv  0.000197       1  [N, o, n, e]   \n",
      "15315    None  Control  CONTROL-5.tsv  0.000197       1  [N, o, n, e]   \n",
      "\n",
      "           9H10     Combo   Control        RT  \n",
      "15157  0.048774  0.023120  0.882778  0.045329  \n",
      "14596  0.048785  0.023125  0.882758  0.045331  \n",
      "15151  0.048806  0.023128  0.882727  0.045339  \n",
      "15341  0.048777  0.023133  0.882712  0.045377  \n",
      "15230  0.048851  0.023129  0.882680  0.045340  \n",
      "15426  0.048830  0.023139  0.882670  0.045362  \n",
      "15172  0.048814  0.023141  0.882663  0.045382  \n",
      "14553  0.048819  0.023149  0.882662  0.045371  \n",
      "14430  0.048418  0.023227  0.882649  0.045706  \n",
      "15315  0.048771  0.023161  0.882617  0.045451  \n"
     ]
    }
   ],
   "source": [
    "print(DTCR_WF.Rep_Seq['Control'])"
   ]
  },
  {
   "cell_type": "markdown",
   "metadata": {},
   "source": [
    "Furthermore, we may want to know which learned motifs are associated with a given label. To do this, we can run the following command with the label we want to know the predictive motifs for."
   ]
  },
  {
   "cell_type": "code",
   "execution_count": 8,
   "metadata": {},
   "outputs": [
    {
     "name": "stdout",
     "output_type": "stream",
     "text": [
      "Motif Identification Completed\n"
     ]
    }
   ],
   "source": [
    "DTCR_WF.Motif_Identification('Control')"
   ]
  },
  {
   "cell_type": "markdown",
   "metadata": {},
   "source": [
    "The motifs can then be found in fasta files in the results folder underneath (label)(alpha/beta)Motifs. These fasta fiels can then be used with \"https://weblogo.berkeley.edu/logo.cgi\" for motif visualization."
   ]
  },
  {
   "cell_type": "code",
   "execution_count": null,
   "metadata": {},
   "outputs": [],
   "source": []
  }
 ],
 "metadata": {
  "kernelspec": {
   "display_name": "Python 3",
   "language": "python",
   "name": "python3"
  },
  "language_info": {
   "codemirror_mode": {
    "name": "ipython",
    "version": 3
   },
   "file_extension": ".py",
   "mimetype": "text/x-python",
   "name": "python",
   "nbconvert_exporter": "python",
   "pygments_lexer": "ipython3",
   "version": "3.6.8"
  }
 },
 "nbformat": 4,
 "nbformat_minor": 2
}
